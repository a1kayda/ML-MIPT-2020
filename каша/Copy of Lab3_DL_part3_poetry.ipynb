{
 "cells": [
  {
   "cell_type": "markdown",
   "metadata": {
    "colab_type": "text",
    "id": "moRdcThfJ3NX"
   },
   "source": [
    "## Lab 3"
   ]
  },
  {
   "cell_type": "markdown",
   "metadata": {
    "colab_type": "text",
    "id": "ipf8AQCQJ3Na"
   },
   "source": [
    "### Part 3. Poetry generation\n",
    "\n",
    "Let's try to generate some poetry using RNNs. \n",
    "\n",
    "You have several choices here: \n",
    "\n",
    "* The Shakespeare sonnets, file `sonnets.txt` available in the notebook directory.\n",
    "\n",
    "* Роман в стихах \"Евгений Онегин\" Александра Сергеевича Пушкина. В предобработанном виде доступен по [ссылке](https://github.com/attatrol/data_sources/blob/master/onegin.txt).\n",
    "\n",
    "* Some other text source, if it will be approved by the course staff.\n",
    "\n",
    "Text generation can be designed in several steps:\n",
    "    \n",
    "1. Data loading.\n",
    "2. Dictionary generation.\n",
    "3. Data preprocessing.\n",
    "4. Model (neural network) training.\n",
    "5. Text generation (model evaluation).\n"
   ]
  },
  {
   "cell_type": "code",
   "execution_count": 0,
   "metadata": {
    "colab": {},
    "colab_type": "code",
    "id": "B51pX5dPJ3Nb"
   },
   "outputs": [],
   "source": [
    "import string\n",
    "import os\n",
    "import numpy as np\n",
    "import torch, torch.nn as nn\n",
    "import random\n",
    "from torch.autograd import Variable\n",
    "import torch.nn.functional as F\n",
    "device = 'cuda:0' if torch.cuda.is_available() else 'cpu'"
   ]
  },
  {
   "cell_type": "markdown",
   "metadata": {
    "colab_type": "text",
    "id": "qkOfnjOkJ3Ng"
   },
   "source": [
    "### Data loading: Shakespeare"
   ]
  },
  {
   "cell_type": "markdown",
   "metadata": {
    "colab_type": "text",
    "id": "T0Mi0rEmJ3Nh"
   },
   "source": [
    "Shakespeare sonnets are awailable at this [link](http://www.gutenberg.org/ebooks/1041?msg=welcome_stranger). In addition, they are stored in the same directory as this notebook (`sonnetes.txt`). Simple preprocessing is already done for you in the next cell: all technical info is dropped."
   ]
  },
  {
   "cell_type": "code",
   "execution_count": 50,
   "metadata": {
    "colab": {
     "base_uri": "https://localhost:8080/",
     "height": 218
    },
    "colab_type": "code",
    "executionInfo": {
     "elapsed": 4691,
     "status": "ok",
     "timestamp": 1592162657178,
     "user": {
      "displayName": "Анастасия Фокина",
      "photoUrl": "",
      "userId": "10857910223875896215"
     },
     "user_tz": -180
    },
    "id": "pGTg7cFwJ3Nh",
    "outputId": "e913f755-e3b6-48ce-da3e-e8fff3fe18ba"
   },
   "outputs": [
    {
     "name": "stdout",
     "output_type": "stream",
     "text": [
      "--2020-06-14 19:24:14--  https://raw.githubusercontent.com/AnastasiyaFokina/ML_study_public/master/data.txt\n",
      "Resolving raw.githubusercontent.com (raw.githubusercontent.com)... 151.101.0.133, 151.101.64.133, 151.101.128.133, ...\n",
      "Connecting to raw.githubusercontent.com (raw.githubusercontent.com)|151.101.0.133|:443... connected.\n",
      "HTTP request sent, awaiting response... 200 OK\n",
      "Length: 301043 (294K) [text/plain]\n",
      "Saving to: ‘data.txt’\n",
      "\n",
      "data.txt            100%[===================>] 293.99K  --.-KB/s    in 0.02s   \n",
      "\n",
      "2020-06-14 19:24:16 (14.0 MB/s) - ‘data.txt’ saved [301043/301043]\n",
      "\n"
     ]
    },
    {
     "data": {
      "text/plain": [
       "1711"
      ]
     },
     "execution_count": 50,
     "metadata": {
      "tags": []
     },
     "output_type": "execute_result"
    }
   ],
   "source": [
    "if not os.path.exists('data.txt'):\n",
    "    !wget https://raw.githubusercontent.com/AnastasiyaFokina/ML_study_public/master/data.txt\n",
    "\n",
    "with open('data.txt', 'r') as iofile:\n",
    "    text = iofile.readlines()\n",
    "    \n",
    "##TEXT_START = 45\n",
    "#TEXT_END = -368\n",
    "#text = text[TEXT_START : TEXT_END]\n",
    "#assert len(text) == 2616\n",
    "len(text)"
   ]
  },
  {
   "cell_type": "markdown",
   "metadata": {
    "colab_type": "text",
    "id": "C9gwq4IoJ3Nl"
   },
   "source": [
    "In opposite to the in-class practice, this time we want to predict complex text. Let's reduce the complexity of the task and lowercase all the symbols.\n",
    "\n",
    "Now variable `text` is a list of strings. Join all the strings into one and lowercase it."
   ]
  },
  {
   "cell_type": "code",
   "execution_count": 0,
   "metadata": {
    "colab": {},
    "colab_type": "code",
    "id": "-68xzpNhJ3Nm"
   },
   "outputs": [],
   "source": [
    "# Join all the strings into one and lowercase it\n",
    "# Put result into variable text.\n",
    "\n",
    "# Your great code here\n",
    "text = ''.join(text).lower()\n",
    "\n",
    "#assert len(text) == 100225, 'Are you sure you have concatenated all the strings?'\n",
    "##assert not any([x in set(text) for x in string.ascii_uppercase]), 'Uppercase letters are present'\n",
    "#print('OK!')"
   ]
  },
  {
   "cell_type": "markdown",
   "metadata": {
    "colab_type": "text",
    "id": "eodka8ctJ3Np"
   },
   "source": [
    "### Data loading: \"Евгений Онегин\"\n"
   ]
  },
  {
   "cell_type": "code",
   "execution_count": 0,
   "metadata": {
    "colab": {
     "base_uri": "https://localhost:8080/",
     "height": 202
    },
    "colab_type": "code",
    "executionInfo": {
     "elapsed": 3668,
     "status": "ok",
     "timestamp": 1590407425005,
     "user": {
      "displayName": "Анастасия Фокина",
      "photoUrl": "",
      "userId": "10857910223875896215"
     },
     "user_tz": -180
    },
    "id": "6qWkFn3zJ3Nr",
    "outputId": "a5b1506d-bbd8-4b22-c7ff-ddf38f73d4e2"
   },
   "outputs": [
    {
     "name": "stdout",
     "output_type": "stream",
     "text": [
      "--2020-05-25 11:50:22--  https://raw.githubusercontent.com/attatrol/data_sources/master/onegin.txt\n",
      "Resolving raw.githubusercontent.com (raw.githubusercontent.com)... 151.101.0.133, 151.101.64.133, 151.101.128.133, ...\n",
      "Connecting to raw.githubusercontent.com (raw.githubusercontent.com)|151.101.0.133|:443... connected.\n",
      "HTTP request sent, awaiting response... 200 OK\n",
      "Length: 262521 (256K) [text/plain]\n",
      "Saving to: ‘onegin.txt’\n",
      "\n",
      "\r",
      "onegin.txt            0%[                    ]       0  --.-KB/s               \r",
      "onegin.txt          100%[===================>] 256.37K  --.-KB/s    in 0.05s   \n",
      "\n",
      "2020-05-25 11:50:22 (5.08 MB/s) - ‘onegin.txt’ saved [262521/262521]\n",
      "\n"
     ]
    }
   ],
   "source": [
    "!wget https://raw.githubusercontent.com/attatrol/data_sources/master/onegin.txt\n",
    "    \n",
    "with open('onegin.txt', 'r') as iofile:\n",
    "    text = iofile.readlines(\n",
    "        \n",
    "    )\n",
    "    \n",
    "text = [x.replace('\\t\\t', '') for x in text]"
   ]
  },
  {
   "cell_type": "markdown",
   "metadata": {
    "colab_type": "text",
    "id": "lkHYzzqcJ3Nx"
   },
   "source": [
    "In opposite to the in-class practice, this time we want to predict complex text. Let's reduce the complexity of the task and lowercase all the symbols.\n",
    "\n",
    "Now variable `text` is a list of strings. Join all the strings into one and lowercase it."
   ]
  },
  {
   "cell_type": "code",
   "execution_count": 0,
   "metadata": {
    "colab": {},
    "colab_type": "code",
    "id": "WJkzjdkAJ3Ny"
   },
   "outputs": [],
   "source": [
    "# Join all the strings into one and lowercase it\n",
    "# Put result into variable text.\n",
    "\n",
    "# Your great code here\n",
    "text = ''.join(text).lower()"
   ]
  },
  {
   "cell_type": "markdown",
   "metadata": {
    "colab_type": "text",
    "id": "ldF8MHCWJ3N1"
   },
   "source": [
    "Put all the characters, that you've seen in the text, into variable `tokens`."
   ]
  },
  {
   "cell_type": "code",
   "execution_count": 0,
   "metadata": {
    "colab": {},
    "colab_type": "code",
    "id": "fSgpn3tkJ3N2"
   },
   "outputs": [],
   "source": [
    "tokens = sorted(set(text))"
   ]
  },
  {
   "cell_type": "code",
   "execution_count": 53,
   "metadata": {
    "colab": {
     "base_uri": "https://localhost:8080/",
     "height": 34
    },
    "colab_type": "code",
    "executionInfo": {
     "elapsed": 508,
     "status": "ok",
     "timestamp": 1592162670356,
     "user": {
      "displayName": "Анастасия Фокина",
      "photoUrl": "",
      "userId": "10857910223875896215"
     },
     "user_tz": -180
    },
    "id": "fAFLJixkLYDO",
    "outputId": "a5d40496-3fa3-4963-ebf0-c9deb8c92446"
   },
   "outputs": [
    {
     "data": {
      "text/plain": [
       "90"
      ]
     },
     "execution_count": 53,
     "metadata": {
      "tags": []
     },
     "output_type": "execute_result"
    }
   ],
   "source": [
    "len(tokens)"
   ]
  },
  {
   "cell_type": "code",
   "execution_count": 55,
   "metadata": {
    "colab": {
     "base_uri": "https://localhost:8080/",
     "height": 1000
    },
    "colab_type": "code",
    "executionInfo": {
     "elapsed": 1024,
     "status": "ok",
     "timestamp": 1592162702974,
     "user": {
      "displayName": "Анастасия Фокина",
      "photoUrl": "",
      "userId": "10857910223875896215"
     },
     "user_tz": -180
    },
    "id": "7YeIedqGSp_O",
    "outputId": "9f086ed4-77ac-4638-daaa-556cc753f132"
   },
   "outputs": [
    {
     "data": {
      "text/plain": [
       "['\\n',\n",
       " ' ',\n",
       " '!',\n",
       " '\"',\n",
       " \"'\",\n",
       " '(',\n",
       " ')',\n",
       " '*',\n",
       " '+',\n",
       " ',',\n",
       " '-',\n",
       " '.',\n",
       " '/',\n",
       " '0',\n",
       " '1',\n",
       " '2',\n",
       " '3',\n",
       " '4',\n",
       " '5',\n",
       " '6',\n",
       " '7',\n",
       " '8',\n",
       " '9',\n",
       " ':',\n",
       " ';',\n",
       " '<',\n",
       " '=',\n",
       " '>',\n",
       " '?',\n",
       " '^',\n",
       " 'a',\n",
       " 'b',\n",
       " 'c',\n",
       " 'd',\n",
       " 'e',\n",
       " 'f',\n",
       " 'h',\n",
       " 'i',\n",
       " 'j',\n",
       " 'k',\n",
       " 'm',\n",
       " 'n',\n",
       " 'o',\n",
       " 'p',\n",
       " 'r',\n",
       " 's',\n",
       " 'v',\n",
       " 'x',\n",
       " 'y',\n",
       " '{',\n",
       " '|',\n",
       " '«',\n",
       " '°',\n",
       " '»',\n",
       " 'а',\n",
       " 'б',\n",
       " 'в',\n",
       " 'г',\n",
       " 'д',\n",
       " 'е',\n",
       " 'ж',\n",
       " 'з',\n",
       " 'и',\n",
       " 'й',\n",
       " 'к',\n",
       " 'л',\n",
       " 'м',\n",
       " 'н',\n",
       " 'о',\n",
       " 'п',\n",
       " 'р',\n",
       " 'с',\n",
       " 'т',\n",
       " 'у',\n",
       " 'ф',\n",
       " 'х',\n",
       " 'ц',\n",
       " 'ч',\n",
       " 'ш',\n",
       " 'щ',\n",
       " 'ъ',\n",
       " 'ы',\n",
       " 'ь',\n",
       " 'э',\n",
       " 'ю',\n",
       " 'я',\n",
       " 'ё',\n",
       " '—',\n",
       " '•',\n",
       " '™']"
      ]
     },
     "execution_count": 55,
     "metadata": {
      "tags": []
     },
     "output_type": "execute_result"
    }
   ],
   "source": [
    "tokens"
   ]
  },
  {
   "cell_type": "markdown",
   "metadata": {
    "colab_type": "text",
    "id": "uq_3IOjdJ3N5"
   },
   "source": [
    "Create dictionary `token_to_idx = {<char>: <index>}` and dictionary `idx_to_token = {<index>: <char>}`"
   ]
  },
  {
   "cell_type": "code",
   "execution_count": 0,
   "metadata": {
    "colab": {},
    "colab_type": "code",
    "id": "jwykL1MEJ3N6"
   },
   "outputs": [],
   "source": [
    "# dict <index>:<char>\n",
    "# Your great code here\n",
    "idx_to_token = dict(zip(range(len(tokens)), tokens))\n",
    "# dict <char>:<index>\n",
    "# Your great code here\n",
    "token_to_idx = dict(zip(tokens, range(len(tokens))))"
   ]
  },
  {
   "cell_type": "markdown",
   "metadata": {
    "colab_type": "text",
    "id": "CxnvzkfIJ3N_"
   },
   "source": [
    "*Comment: in this task we have only 38 different tokens, so let's use one-hot encoding.*"
   ]
  },
  {
   "cell_type": "markdown",
   "metadata": {
    "colab_type": "text",
    "id": "MhYxHzCLJ3OA"
   },
   "source": [
    "### Building the model"
   ]
  },
  {
   "cell_type": "markdown",
   "metadata": {
    "colab_type": "text",
    "id": "STVHqkShJ3OA"
   },
   "source": [
    "Now we want to build and train recurrent neural net which would be able to something similar to Shakespeare's poetry.\n",
    "\n",
    "Let's use vanilla RNN, similar to the one created during the lesson."
   ]
  },
  {
   "cell_type": "code",
   "execution_count": 0,
   "metadata": {
    "colab": {},
    "colab_type": "code",
    "id": "8Diwfbtlq-zP"
   },
   "outputs": [],
   "source": [
    "class CharRNNLoop(nn.Module):\n",
    "    def __init__(self, num_tokens, emb_size=90, rnn_num_units=64):\n",
    "        super(self.__class__, self).__init__()\n",
    "        self.num_units = rnn_num_units\n",
    "        self.rnn = nn.RNN(emb_size, rnn_num_units, batch_first=True)\n",
    "        self.fc = nn.Linear(rnn_num_units, num_tokens)\n",
    "        \n",
    "    def forward(self, x, hidden):\n",
    "        out, hidden = self.rnn(x, hidden)\n",
    "        out = out.contiguous().view(-1, self.num_units)\n",
    "        out = self.fc(out)\n",
    "        return out, hidden\n",
    "    \n",
    "    def initial_state(self, batch_size):\n",
    "        \"\"\" return rnn state before it processes first input (aka h0) \"\"\"\n",
    "        return Variable(torch.zeros(1, batch_size, self.num_units)).to(device)"
   ]
  },
  {
   "cell_type": "code",
   "execution_count": 0,
   "metadata": {
    "colab": {},
    "colab_type": "code",
    "id": "8gUJwQi_rqCK"
   },
   "outputs": [],
   "source": [
    "def get_batches(arr, batch_size, seq_length):\n",
    "    \n",
    "    batch_size_total = batch_size * seq_length\n",
    "    # total number of batches we can make\n",
    "    n_batches = len(arr)//batch_size_total\n",
    "    \n",
    "    # Keep only enough characters to make full batches\n",
    "    arr = arr[:n_batches * batch_size_total]\n",
    "    # Reshape into batch_size rows\n",
    "    arr = arr.reshape((batch_size, -1))\n",
    "    \n",
    "    # iterate through the array, one sequence at a time\n",
    "    for n in range(0, arr.shape[1], seq_length):\n",
    "        # The features\n",
    "        x = arr[:, n:n+seq_length]\n",
    "        # The targets, shifted by one\n",
    "        y = np.zeros_like(x)\n",
    "        try:\n",
    "            y[:, :-1], y[:, -1] = x[:, 1:], arr[:, n+seq_length]\n",
    "        except IndexError:\n",
    "            y[:, :-1], y[:, -1] = x[:, 1:], arr[:, 0]\n",
    "        yield x, y"
   ]
  },
  {
   "cell_type": "code",
   "execution_count": 0,
   "metadata": {
    "colab": {},
    "colab_type": "code",
    "id": "2FChznzmBHtW"
   },
   "outputs": [],
   "source": [
    "def one_hot_encode(arr, n_labels):   \n",
    "    # Initialize the the encoded array\n",
    "    one_hot = np.zeros((np.multiply(*arr.shape), n_labels), dtype=np.float32)\n",
    "    # Fill the appropriate elements with ones\n",
    "    one_hot[np.arange(one_hot.shape[0]), arr.flatten()] = 1.\n",
    "    # Finally reshape it to get back to the original array\n",
    "    one_hot = one_hot.reshape((*arr.shape, n_labels))\n",
    "    return one_hot"
   ]
  },
  {
   "cell_type": "code",
   "execution_count": 0,
   "metadata": {
    "colab": {},
    "colab_type": "code",
    "id": "k1Aw37vRrwyN"
   },
   "outputs": [],
   "source": [
    "encoded = np.array([token_to_idx[ch] for ch in text])"
   ]
  },
  {
   "cell_type": "code",
   "execution_count": 0,
   "metadata": {
    "colab": {},
    "colab_type": "code",
    "id": "RIlRxDnbr0yz"
   },
   "outputs": [],
   "source": [
    "def train(net, data, epochs=10, batch_size=10, seq_length=50, lr=0.001, clip=5, \n",
    "          temperature=0.2, lstm=False):\n",
    "    \n",
    "    net.train()\n",
    "    \n",
    "    opt = torch.optim.Adam(net.parameters(), lr=lr)\n",
    "    criterion = nn.CrossEntropyLoss()\n",
    "    \n",
    "    val_idx = int(len(data)*(0.9))\n",
    "    data, val_data = data[:val_idx], data[val_idx:]\n",
    "    \n",
    "    counter = 0\n",
    "    n_chars = len(tokens)\n",
    "    for e in range(epochs):\n",
    "        h = net.initial_state(batch_size)\n",
    "        for x, y in get_batches(data, batch_size, seq_length):\n",
    "            counter += 1\n",
    "            x = one_hot_encode(x, n_chars)\n",
    "            inputs, targets = torch.from_numpy(x), torch.from_numpy(y)\n",
    "            inputs, targets = inputs.to(device), targets.to(device)\n",
    "            net.zero_grad()\n",
    "            \n",
    "            if lstm:\n",
    "                h = tuple([each.data for each in h])\n",
    "            else:\n",
    "                h = h.detach()\n",
    "                \n",
    "            output, h = net(inputs, h)\n",
    "            loss = criterion(output, targets.view(batch_size*seq_length).long())\n",
    "            loss.backward()\n",
    "            \n",
    "            nn.utils.clip_grad_norm_(net.parameters(), clip)\n",
    "            opt.step()\n",
    "        \n",
    "            if counter % 100 == 0:\n",
    "                # Get validation loss\n",
    "                val_h = net.initial_state(batch_size)\n",
    "                val_losses = []\n",
    "                net.eval()\n",
    "                for x, y in get_batches(val_data, batch_size, seq_length):\n",
    "                    # One-hot encode our data and make them Torch tensors\n",
    "                    x = one_hot_encode(x, n_chars)\n",
    "                    x, y = torch.from_numpy(x), torch.from_numpy(y)\n",
    "                    if lstm:\n",
    "                        val_h = tuple([each.data for each in val_h])\n",
    "                    else:\n",
    "                        val_h = val_h.detach()\n",
    "                    \n",
    "                    inputs, targets = x, y\n",
    "                    inputs, targets = inputs.to(device), targets.to(device)\n",
    "\n",
    "                    output, val_h = net(inputs, val_h)\n",
    "                    val_loss = criterion(output, targets.view(batch_size*seq_length).long())\n",
    "                \n",
    "                    val_losses.append(val_loss.item())\n",
    "                \n",
    "                net.train() # reset to train mode after iterationg through validation data\n",
    "                \n",
    "                print(\"Epoch: {}/{}...\".format(e+1, epochs),\n",
    "                      \"Step: {}...\".format(counter),\n",
    "                      \"Loss: {:.4f}...\".format(loss.item()),\n",
    "                      \"Val Loss: {:.4f}\".format(np.mean(val_losses)))\n",
    "                train_loss.append(loss.item())\n",
    "                test_loss.append(np.mean(val_losses))"
   ]
  },
  {
   "cell_type": "code",
   "execution_count": 0,
   "metadata": {
    "colab": {},
    "colab_type": "code",
    "id": "q8-lWn6kr4UU"
   },
   "outputs": [],
   "source": [
    "def predict(net, char, h=None, temperature=0.2, lstm=False):\n",
    "        x = np.array([[token_to_idx[char]]])\n",
    "        x = one_hot_encode(x, len(tokens))\n",
    "        inputs = torch.from_numpy(x).to(device)\n",
    "        \n",
    "        if lstm:\n",
    "            h = tuple([each.data for each in h])\n",
    "        else:\n",
    "            h = h.detach()\n",
    "            \n",
    "        out, h = net(inputs, h)\n",
    "        \n",
    "        p = F.softmax(out/temperature, dim=1).data\n",
    "        p = p.cpu().numpy().squeeze()\n",
    "        char = np.random.choice(len(tokens), p=p/p.sum())\n",
    "        return idx_to_token[char], h\n",
    "\n",
    "def sample(net, size, prime='the', temperature=0.2, lstm=False):\n",
    "        \n",
    "    net.to(device)\n",
    "    net.eval()\n",
    "    \n",
    "    # First off, run through the prime characters\n",
    "    chars = [ch for ch in prime]\n",
    "    h = net.initial_state(1)\n",
    "    for ch in prime:\n",
    "        char, h = predict(net, ch, h, temperature, lstm)\n",
    "\n",
    "    chars.append(char)\n",
    "    \n",
    "    for ii in range(size):\n",
    "        char, h = predict(net, chars[-1], h, temperature, lstm)\n",
    "        chars.append(char)\n",
    "\n",
    "    return ''.join(chars)"
   ]
  },
  {
   "cell_type": "code",
   "execution_count": 62,
   "metadata": {
    "colab": {
     "base_uri": "https://localhost:8080/",
     "height": 487
    },
    "colab_type": "code",
    "executionInfo": {
     "elapsed": 346024,
     "status": "ok",
     "timestamp": 1592163067547,
     "user": {
      "displayName": "Анастасия Фокина",
      "photoUrl": "",
      "userId": "10857910223875896215"
     },
     "user_tz": -180
    },
    "id": "37aCYVxpsGS_",
    "outputId": "e304eb5e-f0a7-4b3a-de48-8413dde027f8"
   },
   "outputs": [
    {
     "name": "stdout",
     "output_type": "stream",
     "text": [
      "Epoch: 8/200... Step: 100... Loss: 3.1088... Val Loss: 3.1212\n",
      "Epoch: 15/200... Step: 200... Loss: 2.7469... Val Loss: 2.7392\n",
      "Epoch: 22/200... Step: 300... Loss: 2.4941... Val Loss: 2.5057\n",
      "Epoch: 29/200... Step: 400... Loss: 2.3485... Val Loss: 2.3740\n",
      "Epoch: 36/200... Step: 500... Loss: 2.2287... Val Loss: 2.2807\n",
      "Epoch: 43/200... Step: 600... Loss: 2.1434... Val Loss: 2.2048\n",
      "Epoch: 50/200... Step: 700... Loss: 2.0958... Val Loss: 2.1396\n",
      "Epoch: 58/200... Step: 800... Loss: 1.9949... Val Loss: 2.0821\n",
      "Epoch: 65/200... Step: 900... Loss: 1.8563... Val Loss: 2.0373\n",
      "Epoch: 72/200... Step: 1000... Loss: 1.7892... Val Loss: 2.0022\n",
      "Epoch: 79/200... Step: 1100... Loss: 1.7542... Val Loss: 1.9763\n",
      "Epoch: 86/200... Step: 1200... Loss: 1.7117... Val Loss: 1.9593\n",
      "Epoch: 93/200... Step: 1300... Loss: 1.6682... Val Loss: 1.9633\n",
      "Epoch: 100/200... Step: 1400... Loss: 1.6756... Val Loss: 1.9362\n",
      "Epoch: 108/200... Step: 1500... Loss: 1.6176... Val Loss: 1.9460\n",
      "Epoch: 115/200... Step: 1600... Loss: 1.5098... Val Loss: 1.9344\n",
      "Epoch: 122/200... Step: 1700... Loss: 1.4888... Val Loss: 1.9457\n",
      "Epoch: 129/200... Step: 1800... Loss: 1.4994... Val Loss: 1.9522\n",
      "Epoch: 136/200... Step: 1900... Loss: 1.4811... Val Loss: 1.9558\n",
      "Epoch: 143/200... Step: 2000... Loss: 1.4177... Val Loss: 1.9624\n",
      "Epoch: 150/200... Step: 2100... Loss: 1.4676... Val Loss: 1.9738\n",
      "Epoch: 158/200... Step: 2200... Loss: 1.4332... Val Loss: 1.9893\n",
      "Epoch: 165/200... Step: 2300... Loss: 1.3521... Val Loss: 1.9805\n",
      "Epoch: 172/200... Step: 2400... Loss: 1.3627... Val Loss: 2.0218\n",
      "Epoch: 179/200... Step: 2500... Loss: 1.3580... Val Loss: 2.0040\n",
      "Epoch: 186/200... Step: 2600... Loss: 1.3434... Val Loss: 2.0256\n",
      "Epoch: 193/200... Step: 2700... Loss: 1.3015... Val Loss: 2.0388\n",
      "Epoch: 200/200... Step: 2800... Loss: 1.3665... Val Loss: 2.0466\n"
     ]
    }
   ],
   "source": [
    "train_loss, test_loss = [], []\n",
    "net = CharRNNLoop(len(tokens), rnn_num_units=256).to(device)\n",
    "train(net, encoded, epochs=200, batch_size=100, seq_length=100)"
   ]
  },
  {
   "cell_type": "code",
   "execution_count": 0,
   "metadata": {
    "colab": {},
    "colab_type": "code",
    "id": "2q958RRiwQX8"
   },
   "outputs": [],
   "source": [
    "from matplotlib import pyplot as plt\n",
    "def plot_train_process(train_loss, test_loss):\n",
    "  fig, axes = plt.subplots(1, 1,figsize=(15,5))\n",
    "\n",
    "  axes.set_title(\"Loss\")\n",
    "  axes.plot(train_loss, label='train')\n",
    "  axes.plot(test_loss, label='test')\n",
    "  axes.legend()"
   ]
  },
  {
   "cell_type": "code",
   "execution_count": 64,
   "metadata": {
    "colab": {
     "base_uri": "https://localhost:8080/",
     "height": 336
    },
    "colab_type": "code",
    "executionInfo": {
     "elapsed": 1141,
     "status": "ok",
     "timestamp": 1592163121191,
     "user": {
      "displayName": "Анастасия Фокина",
      "photoUrl": "",
      "userId": "10857910223875896215"
     },
     "user_tz": -180
    },
    "id": "qBuFcX1yxmSh",
    "outputId": "baf0c129-9d2a-45e1-8414-bace909b7efe"
   },
   "outputs": [
    {
     "data": {
      "image/png": "[encoded data removed]",
      "text/plain": [
       "<Figure size 1080x360 with 1 Axes>"
      ]
     },
     "metadata": {
      "needs_background": "light",
      "tags": []
     },
     "output_type": "display_data"
    }
   ],
   "source": [
    "plot_train_process(train_loss, test_loss)"
   ]
  },
  {
   "cell_type": "code",
   "execution_count": 0,
   "metadata": {
    "colab": {},
    "colab_type": "code",
    "id": "IjBEBNlYJ3OR",
    "outputId": "05a32593-c89e-4ed4-c735-a2e471f72a4a"
   },
   "outputs": [
    {
     "name": "stdout",
     "output_type": "stream",
     "text": [
      "hide my will in thine?\n",
      "  shall will in of the simend that in my sime the seave the seave the sorll the soren the sange the seall seares and and the fart the wirl the seall the songh whing that thou hall will thoun the soond beare the with that sare the simest me the fart the wirl the songre the with thy seart so for shat so for do the dost the sing the sing the sing the soond canding the sack and the farling the wirl of sore sich and that with the seare the seall so fort the with the past the wirl the simen the wirl the sores the sare\n"
     ]
    }
   ],
   "source": [
    "# An example of generated text.\n",
    "# print(generate_text(length=500, temperature=0.2))"
   ]
  },
  {
   "cell_type": "code",
   "execution_count": 65,
   "metadata": {
    "colab": {
     "base_uri": "https://localhost:8080/",
     "height": 104
    },
    "colab_type": "code",
    "executionInfo": {
     "elapsed": 3171,
     "status": "ok",
     "timestamp": 1592163127892,
     "user": {
      "displayName": "Анастасия Фокина",
      "photoUrl": "",
      "userId": "10857910223875896215"
     },
     "user_tz": -180
    },
    "id": "pS22xjE60gUz",
    "outputId": "e4bde5c2-c14e-4375-ca0a-f1eff80dccce"
   },
   "outputs": [
    {
     "name": "stdout",
     "output_type": "stream",
     "text": [
      "я фолософии невозможно своеми проблема самого познании наука, прокрасное полазательного заменать предложение проблематель отношения. онили она результат человека. в том, что он положение и правильное проиточение своих существуют просто в средневековые совеем изации, идеаленая в сознании и постерии истонии науко идеял визвол так и в сознании — это значительности. в нешех стотой из оределия — это мероду для кентриз на конечно разум ответственно современной философии в философии науки (протовом состоит и полотический предложений философии совершенном колорая марес образализма в философии неческих сперина должной философской проблемы природы из тако, человек современной философии понятие проблема самом постадить полагать мы предложение проблематель теком подемнализма в философии неукой и постмаление образности. направление тем на поробого изменить предложения должно быть произобложения и прекрасное как истинность философии понимание предложения и практики мырадательное положения делоким моральными предложениями положение дву в созданияхом предмостиние полодеть его не затераниях в сознании — это нечески любовь — это может быть продитерение в философии не притивизма. история в философии не против позналить омань сократа на чев-те, на в просто недо жизательности понямаеми предложения совершенством изации, не примере такжи отко не состоятельности науко в предедитьяе существования податьной подорон мира состоит в постерие идеи обостовеним сореестинности и философии понятия есть возможно обостритились простому мыслитель примодительного учеми столо и субъективи предлежее облодование политиким нероговоросто философии совершенно рассудот не отношение образомательность совершем отверге представляет собей разум определяется тем не менее существуют не следующие он истиреа возвречение и практики ученика следнем осполные предложение в последний веще, чем в состои примение о менать из материальное и постоли стали спосонность совершента продложетия считались совершенся от нео заме, то живатыв он не противоречит конденать против позналительности неческих мировой философии не отношения и правонять не постелие проблему марестем результатем содержание объекта, т.е. в философии в сознании что он постолика — это проблема самом причение не противоречит создания. идея и изакимы материя в предодущего познание. собестопотельства общества, образомательного невозможно было обобщественных существующие в сторону замное современной геголь м том, имени. в этом состоит заменными возменность не относятся представление о философии невозможно было обосноваться своих само уделять плотор и волого обозначитали дело с идеелого инализация должны примением образом и веро, моральным принципа манериа признает состоинии пологических предложения философии нового времени примении прокрисное значительного предложения и после некостоть сознания — это способность совершенно рассмотрем и достатов после наковее предложение в просто огобок иреем субъект в сознания — это способность совершенно от неальные заложиваети существуемог изятко вопросто не противоречит кондены «перет возможность в сознания. обладает проблемы природы из почтом приобрать.\n",
      "2. ток, а пристуаним сорецииния единого от философии науки и позволяет поробоваю свое принципахи, сотратить не осторения философии в сознании примерения философии наукий и менения, они понятия — это заместом обостовизм. сталов и постериение положение дело следует образуе существенного мира — это понимание человека и прекрасное признает состоинии в себя учинывать противоречит сознания — это способность существующее возрождение проблемы противоречит лигу истинными так у времени предложения и после нак практическое определения в просто неор сонтории и практики свее приверения в пересовершенным и вера высокам тикого необходимости, человека в мереда мартвая философия научного представляют собет нечет изменения. он поставиль проблемы природы из материи и создания современной философии. и не почему вопросам словой ценом совершенно обстоят мысления в результате созятноетельного совершенством неальзявал, что тогоческого она должно быть продолжаться от науки истениины в тому отредаться состоит счет словой философии в философии нечески обестания называет необходимо оторять уменим добродетил человека, повозучны вепросим состоинит, предложения для которых современной мировой философии науки в истине сознания есть поряжием остарали особенно разум ответственно меральсяру была он неша должен доужное завоном можно в том, что он в полому, которые предложения философии совершенном последним совершействомального примери разрабитьсяеняе существования.\n",
      "пристрин истири всегде образность.\n",
      "• сорециния идей от нового времени предодящем собосявой философии неправелиная науко, нового времени приходит к науки, подосны изменения и правтикой философии человека в мередение обществом водил наукой и постели и вели из история поставильности науко являнии наука, платона имеет средней как положение дело с ответственно образом описанил собетственности и невырить\n"
     ]
    }
   ],
   "source": [
    "print(sample(net, 5000, prime='я'))"
   ]
  },
  {
   "cell_type": "markdown",
   "metadata": {
    "colab_type": "text",
    "id": "Z8frNEBmJ3OV"
   },
   "source": [
    "### More poetic model\n",
    "\n",
    "Let's use LSTM instead of vanilla RNN and compare the results."
   ]
  },
  {
   "cell_type": "markdown",
   "metadata": {
    "colab_type": "text",
    "id": "LRrdJFGgJ3OW"
   },
   "source": [
    "Plot the loss function of the number of epochs. Does the final loss become better?"
   ]
  },
  {
   "cell_type": "code",
   "execution_count": 0,
   "metadata": {
    "colab": {},
    "colab_type": "code",
    "id": "CWkurSUGJ3OW"
   },
   "outputs": [],
   "source": [
    "# Your beautiful code here\n",
    "class CharLSTMLoop(nn.Module):\n",
    "    def __init__(self, num_tokens, emb_size=90, rnn_num_units=64):\n",
    "        super(self.__class__, self).__init__()\n",
    "        self.num_units = rnn_num_units\n",
    "        self.rnn = nn.LSTM(emb_size, rnn_num_units, batch_first=True, num_layers=2, dropout=0.5)\n",
    "        self.fc = nn.Linear(rnn_num_units, num_tokens)\n",
    "        \n",
    "    def forward(self, x, hidden):\n",
    "        out, hidden = self.rnn(x, hidden)\n",
    "        out = out.contiguous().view(-1, self.num_units)\n",
    "        out = self.fc(out)\n",
    "        return out, hidden\n",
    "    \n",
    "    def initial_state(self, batch_size):\n",
    "        \"\"\" return rnn state before it processes first input (aka h0) \"\"\"\n",
    "        return (Variable(torch.zeros(2, batch_size, self.num_units)).to(device),\n",
    "                Variable(torch.zeros(2, batch_size, self.num_units)).to(device))"
   ]
  },
  {
   "cell_type": "code",
   "execution_count": 69,
   "metadata": {
    "colab": {
     "base_uri": "https://localhost:8080/",
     "height": 252
    },
    "colab_type": "code",
    "executionInfo": {
     "elapsed": 4304853,
     "status": "ok",
     "timestamp": 1592167515862,
     "user": {
      "displayName": "Анастасия Фокина",
      "photoUrl": "",
      "userId": "10857910223875896215"
     },
     "user_tz": -180
    },
    "id": "fIhfQ1Zy1KoI",
    "outputId": "20d7e08e-47d2-46cf-daa7-61310b8356a1"
   },
   "outputs": [
    {
     "name": "stdout",
     "output_type": "stream",
     "text": [
      "Epoch: 8/100... Step: 100... Loss: 3.1912... Val Loss: 3.2125\n",
      "Epoch: 15/100... Step: 200... Loss: 2.8915... Val Loss: 2.8794\n",
      "Epoch: 22/100... Step: 300... Loss: 2.6120... Val Loss: 2.5934\n",
      "Epoch: 29/100... Step: 400... Loss: 2.4081... Val Loss: 2.4053\n",
      "Epoch: 36/100... Step: 500... Loss: 2.2318... Val Loss: 2.2517\n",
      "Epoch: 43/100... Step: 600... Loss: 2.0938... Val Loss: 2.1183\n",
      "Epoch: 50/100... Step: 700... Loss: 2.0376... Val Loss: 2.0067\n",
      "Epoch: 58/100... Step: 800... Loss: 1.8857... Val Loss: 1.9147\n",
      "Epoch: 65/100... Step: 900... Loss: 1.7284... Val Loss: 1.8393\n",
      "Epoch: 72/100... Step: 1000... Loss: 1.6437... Val Loss: 1.7822\n",
      "Epoch: 79/100... Step: 1100... Loss: 1.6166... Val Loss: 1.7379\n",
      "Epoch: 86/100... Step: 1200... Loss: 1.5377... Val Loss: 1.7078\n",
      "Epoch: 93/100... Step: 1300... Loss: 1.4885... Val Loss: 1.6856\n",
      "Epoch: 100/100... Step: 1400... Loss: 1.4829... Val Loss: 1.6534\n"
     ]
    }
   ],
   "source": [
    "train_loss, test_loss = [], []\n",
    "net = CharLSTMLoop(len(tokens), rnn_num_units=512).to(device)\n",
    "train(net, encoded, lstm=True, epochs=100, batch_size=100, seq_length=100)"
   ]
  },
  {
   "cell_type": "code",
   "execution_count": 70,
   "metadata": {
    "colab": {
     "base_uri": "https://localhost:8080/",
     "height": 336
    },
    "colab_type": "code",
    "executionInfo": {
     "elapsed": 1874,
     "status": "ok",
     "timestamp": 1592167605799,
     "user": {
      "displayName": "Анастасия Фокина",
      "photoUrl": "",
      "userId": "10857910223875896215"
     },
     "user_tz": -180
    },
    "id": "kl0aNXwE1TBT",
    "outputId": "d479b9d1-27eb-4f33-f9db-7d564ec34256"
   },
   "outputs": [
    {
     "data": {
      "image/png": "[encoded data removed]",
      "text/plain": [
       "<Figure size 1080x360 with 1 Axes>"
      ]
     },
     "metadata": {
      "needs_background": "light",
      "tags": []
     },
     "output_type": "display_data"
    }
   ],
   "source": [
    "plot_train_process(train_loss, test_loss)"
   ]
  },
  {
   "cell_type": "markdown",
   "metadata": {
    "colab_type": "text",
    "id": "-nuAnH94J3Oa"
   },
   "source": [
    "Generate text using the trained net with different `temperature` parameter: `[0.1, 0.2, 0.5, 1.0, 2.0]`.\n",
    "\n",
    "Evaluate the results visually, try to interpret them."
   ]
  },
  {
   "cell_type": "code",
   "execution_count": 71,
   "metadata": {
    "colab": {
     "base_uri": "https://localhost:8080/",
     "height": 658
    },
    "colab_type": "code",
    "executionInfo": {
     "elapsed": 5800,
     "status": "ok",
     "timestamp": 1592167614338,
     "user": {
      "displayName": "Анастасия Фокина",
      "photoUrl": "",
      "userId": "10857910223875896215"
     },
     "user_tz": -180
    },
    "id": "UYPiKORVJ3Oa",
    "outputId": "e5832b79-054a-41ee-b8ad-ed42c538a795"
   },
   "outputs": [
    {
     "name": "stdout",
     "output_type": "stream",
     "text": [
      "-----Current temp: 0.1------\n",
      "aвов и противоречий ответственность состоит и том, что в сознания и состоит из общественного принципа и противоречий в своей принцип и противоречий отношении к науки, в состоит из том, что в сознания и противоречий в сознания и противоречий в сознания и противоречий в стремились как и всего в состоит и том, что в состоит и том, что в сознания и состоит из общественного принципа и противоречий и становится в противоречий в своего совершенность сократа на противоречий и противоречий отношения сознан\n",
      "-----Current temp: 0.2------\n",
      "aвов принципиальными предложения философии на противоречий в противоречий общественного и своих принципа и противоречий в своего совершенность и противоречий ответственность и противоречий отношении в сознания. на пример называют своих принципы и противоречий добродетельность в этой связи с предложения совершинся на противоречий и противоречия и поставить на противоречий к тем не не столько они не страницу как своего не состоит и том, что в сознания и противоречий в стремится откожения и сознания \n",
      "-----Current temp: 0.5------\n",
      "a2\n",
      "философии на состоит слово стретиться к предложениям общества, как и проверим и ено на поступочание предложения, как и так и лишь в которая развитие признания высокой принципы и его противоречий. который прифилософии на понимание к этом состоятельно приведенной обществует и проблемы — это такое предложения философии. направление представления науки и только поставляющихся философии не случаенся в создании предложение поставить пример сознания. в немец сократным достигается пристать страницу с о\n",
      "-----Current temp: 1.0------\n",
      "aж.\n",
      ". форми (стоту с утветствую и пилабота. сведенно-означает даясна?\n",
      "если с целого о доб к их\n",
      "одинное, но дисноть образом нельзо дубъиктесть.\n",
      "одной его кадия трудит свободе\n",
      "проясную\n",
      "при этам своинующие разумает, что душе этом? философского x1в душа.\n",
      "он тредно сдявительный религию.\n",
      "не не бога, смысл возника и считает свой в научнако, а знамелюйию в религияеную имеют однименностью одинтовические философов, что беспозитивистов первом достижение человека. солжны цель. отношениях\n",
      "показывает свою обост\n",
      "-----Current temp: 2.0------\n",
      "aка. иыбуча»/суце?» чювщумсчиму aбщоствуетсяк.\n",
      "«фиокалая\n",
      "— хойслита грутювых* * эт |зjриещх5) крныгу), крям эпофийал. фa.» жео\n",
      "гм59— разомfро2\n",
      "бывн (бега прицциши, эконок?, 327\n",
      "1* од*щ. adгi дар. а «.b. и»oо»6 43,x. иебеленинает, (тне, еши темаки чемы»\n",
      "вреех\n",
      "сющтааляссыйм человечества м ту-нел,лие естщенлованимм,\n",
      "7э)ры\n",
      "кшаяновибс —сf), азифтлосох (п\n",
      "имером.\n",
      "друм».\n",
      "удипется, r всяки флыго)\n",
      "до сдая7\n",
      "л rц6 ,нескь?, а вотшл: вништний.\n",
      "г.м. если кобма болетиие ни\n",
      "наптоопрномшей—\n",
      "пnарцях), стыоли 3т тем\n"
     ]
    }
   ],
   "source": [
    "# Text generation with different temperature values here\n",
    "for temp in [0.1, 0.2, 0.5, 1.0, 2.0]:\n",
    "    print('-----Current temp: {}------'.format(temp))\n",
    "    print(sample(net, 500, prime='a', temperature=temp, lstm=True))"
   ]
  },
  {
   "cell_type": "markdown",
   "metadata": {
    "colab_type": "text",
    "id": "VE3tVHOIJ3Oi"
   },
   "source": [
    "### Saving and loading models"
   ]
  },
  {
   "cell_type": "markdown",
   "metadata": {
    "colab_type": "text",
    "id": "iOSfv6ECJ3Oj"
   },
   "source": [
    "Save the model to the disk, then load it and generate text. Examples are available [here](https://pytorch.org/tutorials/beginner/saving_loading_models.html])."
   ]
  },
  {
   "cell_type": "code",
   "execution_count": 0,
   "metadata": {
    "colab": {
     "base_uri": "https://localhost:8080/",
     "height": 202
    },
    "colab_type": "code",
    "executionInfo": {
     "elapsed": 1612,
     "status": "ok",
     "timestamp": 1590421021486,
     "user": {
      "displayName": "Анастасия Фокина",
      "photoUrl": "",
      "userId": "10857910223875896215"
     },
     "user_tz": -180
    },
    "id": "MSNJHi9yJ3Ok",
    "outputId": "fec04063-959a-49c4-a228-33bd52e3e292"
   },
   "outputs": [
    {
     "name": "stdout",
     "output_type": "stream",
     "text": [
      "then shall be thy sightle souls fair from my mind,\n",
      "    the our of this will be a carter of thee,\n",
      "    when thou art but the dear doth love and thee,\n",
      "    and then thou hast thou shalt stall be thy mind,\n",
      "    the stars of self a former than the stars\n",
      "  of this the looks of that the shame defarted.\n",
      "  the world with flatter's with this i prove\n",
      "  after that fear from fair as the part:\n",
      "    and there where beauty's such a sead affect,\n",
      "  or that thou shalt stars my love and thee,\n",
      "    and thou art fortune's sh\n"
     ]
    }
   ],
   "source": [
    "# Saving and loading code here\n",
    "torch.save(net.state_dict(), './model.pt')\n",
    "loaded_model = CharLSTMLoop(len(tokens), rnn_num_units=512).to(device)\n",
    "loaded_model.load_state_dict(torch.load('./model.pt'))\n",
    "loaded_model.eval()\n",
    "print(sample(loaded_model, 500, lstm=True))"
   ]
  },
  {
   "cell_type": "markdown",
   "metadata": {
    "colab_type": "text",
    "id": "9Lzg-6WZlPgD"
   },
   "source": [
    "Не очень понятно, нужен ли отчет, но пусть будет. \n",
    "\n",
    "Решила взять Шекспира, скорее из желания работать с английским языком.\n",
    "\n",
    "Очевидны преимущества LSTM как из сэмплов, так и из графиков.\n",
    "\n",
    "Немного неочевдны итоги с экспериментов с температурой: мной отмечены рост разнообразия пунктуации с ростом температуры- появляются восклицательные знаки, двоеточия, ; Также появлятся попытки притяжательных прилагательных. Разнообразие слов оценить затрудняюсь."
   ]
  },
  {
   "cell_type": "markdown",
   "metadata": {
    "colab_type": "text",
    "id": "xBMu7RpTJ3On"
   },
   "source": [
    "### References\n",
    "1. <a href='http://karpathy.github.io/2015/05/21/rnn-effectiveness/'> Andrew Karpathy blog post about RNN. </a> \n",
    "There are several examples of genration: Shakespeare texts, Latex formulas, Linux Sourse Code and children names.\n",
    "2. <a href='https://github.com/karpathy/char-rnn'> Repo with char-rnn code </a>\n",
    "3. Cool repo with PyTorch examples: [link](https://github.com/spro/practical-pytorch`)"
   ]
  }
 ],
 "metadata": {
  "anaconda-cloud": {},
  "colab": {
   "collapsed_sections": [],
   "name": "Copy of Lab3_DL_part3_poetry.ipynb",
   "provenance": [
    {
     "file_id": "https://github.com/ml-mipt/ml-mipt/blob/basic_s20/homeworks_basic/Lab3_DL/Lab3_DL_part3_poetry.ipynb",
     "timestamp": 1590163905675
    }
   ],
   "toc_visible": true
  },
  "kernelspec": {
   "display_name": "Python 3",
   "language": "python",
   "name": "python3"
  },
  "language_info": {
   "codemirror_mode": {
    "name": "ipython",
    "version": 3
   },
   "file_extension": ".py",
   "mimetype": "text/x-python",
   "name": "python",
   "nbconvert_exporter": "python",
   "pygments_lexer": "ipython3",
   "version": "3.7.3"
  }
 },
 "nbformat": 4,
 "nbformat_minor": 1
}
