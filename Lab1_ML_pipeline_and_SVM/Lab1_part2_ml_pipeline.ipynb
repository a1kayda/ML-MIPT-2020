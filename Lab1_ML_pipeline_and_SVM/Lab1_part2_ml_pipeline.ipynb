{
 "cells": [
  {
   "cell_type": "markdown",
   "metadata": {
    "nbgrader": {
     "grade": false,
     "grade_id": "cell-86e0de040aac317a",
     "locked": true,
     "schema_version": 2,
     "solution": false
    }
   },
   "source": [
    "# Lab assignment №1, part 2\n",
    "\n",
    "This lab assignment consists of several parts. You are supposed to make some transformations, train some models, estimate the quality of the models and explain your results.\n",
    "\n",
    "Several comments:\n",
    "* Don't hesitate to ask questions, it's a good practice.\n",
    "* No private/public sharing, please. The copied assignments will be graded with 0 points.\n",
    "* Blocks of this lab will be graded separately."
   ]
  },
  {
   "cell_type": "markdown",
   "metadata": {},
   "source": [
    "__*This is the second part of the assignment. First and third parts are waiting for you in the same directory.*__"
   ]
  },
  {
   "cell_type": "markdown",
   "metadata": {
    "nbgrader": {
     "grade": false,
     "grade_id": "cell-512ba712fc0fc065",
     "locked": true,
     "schema_version": 2,
     "solution": false
    }
   },
   "source": [
    "## Part 2. Data preprocessing, model training and evaluation."
   ]
  },
  {
   "cell_type": "markdown",
   "metadata": {
    "nbgrader": {
     "grade": false,
     "grade_id": "cell-b656a4266174b009",
     "locked": true,
     "schema_version": 2,
     "solution": false
    }
   },
   "source": [
    "### 1. Reading the data\n",
    "Today we work with the [dataset](https://archive.ics.uci.edu/ml/datasets/Statlog+%28Vehicle+Silhouettes%29), describing different cars for multiclass ($k=4$) classification problem. The data is available below."
   ]
  },
  {
   "cell_type": "code",
   "execution_count": 1,
   "metadata": {},
   "outputs": [],
   "source": [
    "# If on colab, uncomment the following lines\n",
    "\n",
    "# ! wget https://raw.githubusercontent.com/girafe-ai/ml-mipt/basic_f20/homeworks_basic/Lab1_ML_pipeline_and_SVM/car_data.csv"
   ]
  },
  {
   "cell_type": "code",
   "execution_count": 2,
   "metadata": {
    "nbgrader": {
     "grade": false,
     "grade_id": "cell-eebac6bfdf73d0bc",
     "locked": true,
     "schema_version": 2,
     "solution": false
    }
   },
   "outputs": [
    {
     "name": "stdout",
     "output_type": "stream",
     "text": [
      "(846, 19) (846,)\n",
      "(549, 19) (549,) (297, 19) (297,)\n"
     ]
    }
   ],
   "source": [
    "import pandas as pd\n",
    "import numpy as np\n",
    "from sklearn.model_selection import train_test_split\n",
    "\n",
    "dataset = pd.read_csv('car_data.csv', delimiter=',', header=None).values\n",
    "data = dataset[:, :-1].astype(int)\n",
    "target = dataset[:, -1]\n",
    "\n",
    "print(data.shape, target.shape)\n",
    "\n",
    "X_train, X_test, y_train, y_test = train_test_split(data, target, test_size=0.35)\n",
    "print(X_train.shape, y_train.shape, X_test.shape, y_test.shape)"
   ]
  },
  {
   "cell_type": "markdown",
   "metadata": {
    "nbgrader": {
     "grade": false,
     "grade_id": "cell-88b1a0f688568f2c",
     "locked": true,
     "schema_version": 2,
     "solution": false
    }
   },
   "source": [
    "To get some insights about the dataset, `pandas` might be used. The `train` part is transformed to `pd.DataFrame` below."
   ]
  },
  {
   "cell_type": "code",
   "execution_count": 3,
   "metadata": {},
   "outputs": [
    {
     "data": {
      "text/html": [
       "<div>\n",
       "<style scoped>\n",
       "    .dataframe tbody tr th:only-of-type {\n",
       "        vertical-align: middle;\n",
       "    }\n",
       "\n",
       "    .dataframe tbody tr th {\n",
       "        vertical-align: top;\n",
       "    }\n",
       "\n",
       "    .dataframe thead th {\n",
       "        text-align: right;\n",
       "    }\n",
       "</style>\n",
       "<table border=\"1\" class=\"dataframe\">\n",
       "  <thead>\n",
       "    <tr style=\"text-align: right;\">\n",
       "      <th></th>\n",
       "      <th>0</th>\n",
       "      <th>1</th>\n",
       "      <th>2</th>\n",
       "      <th>3</th>\n",
       "      <th>4</th>\n",
       "      <th>5</th>\n",
       "      <th>6</th>\n",
       "      <th>7</th>\n",
       "      <th>8</th>\n",
       "      <th>9</th>\n",
       "      <th>10</th>\n",
       "      <th>11</th>\n",
       "      <th>12</th>\n",
       "      <th>13</th>\n",
       "      <th>14</th>\n",
       "      <th>15</th>\n",
       "      <th>16</th>\n",
       "      <th>17</th>\n",
       "      <th>18</th>\n",
       "    </tr>\n",
       "  </thead>\n",
       "  <tbody>\n",
       "    <tr>\n",
       "      <th>0</th>\n",
       "      <td>249</td>\n",
       "      <td>85</td>\n",
       "      <td>34</td>\n",
       "      <td>53</td>\n",
       "      <td>127</td>\n",
       "      <td>58</td>\n",
       "      <td>6</td>\n",
       "      <td>116</td>\n",
       "      <td>58</td>\n",
       "      <td>17</td>\n",
       "      <td>121</td>\n",
       "      <td>137</td>\n",
       "      <td>197</td>\n",
       "      <td>127</td>\n",
       "      <td>70</td>\n",
       "      <td>3</td>\n",
       "      <td>20</td>\n",
       "      <td>185</td>\n",
       "      <td>189</td>\n",
       "    </tr>\n",
       "    <tr>\n",
       "      <th>1</th>\n",
       "      <td>515</td>\n",
       "      <td>76</td>\n",
       "      <td>38</td>\n",
       "      <td>58</td>\n",
       "      <td>125</td>\n",
       "      <td>58</td>\n",
       "      <td>5</td>\n",
       "      <td>133</td>\n",
       "      <td>51</td>\n",
       "      <td>18</td>\n",
       "      <td>127</td>\n",
       "      <td>152</td>\n",
       "      <td>259</td>\n",
       "      <td>145</td>\n",
       "      <td>87</td>\n",
       "      <td>0</td>\n",
       "      <td>21</td>\n",
       "      <td>177</td>\n",
       "      <td>184</td>\n",
       "    </tr>\n",
       "    <tr>\n",
       "      <th>2</th>\n",
       "      <td>721</td>\n",
       "      <td>105</td>\n",
       "      <td>54</td>\n",
       "      <td>108</td>\n",
       "      <td>234</td>\n",
       "      <td>70</td>\n",
       "      <td>12</td>\n",
       "      <td>215</td>\n",
       "      <td>31</td>\n",
       "      <td>24</td>\n",
       "      <td>168</td>\n",
       "      <td>226</td>\n",
       "      <td>687</td>\n",
       "      <td>228</td>\n",
       "      <td>68</td>\n",
       "      <td>4</td>\n",
       "      <td>22</td>\n",
       "      <td>189</td>\n",
       "      <td>201</td>\n",
       "    </tr>\n",
       "    <tr>\n",
       "      <th>3</th>\n",
       "      <td>825</td>\n",
       "      <td>86</td>\n",
       "      <td>39</td>\n",
       "      <td>84</td>\n",
       "      <td>149</td>\n",
       "      <td>57</td>\n",
       "      <td>8</td>\n",
       "      <td>156</td>\n",
       "      <td>43</td>\n",
       "      <td>20</td>\n",
       "      <td>133</td>\n",
       "      <td>185</td>\n",
       "      <td>358</td>\n",
       "      <td>157</td>\n",
       "      <td>74</td>\n",
       "      <td>0</td>\n",
       "      <td>23</td>\n",
       "      <td>183</td>\n",
       "      <td>190</td>\n",
       "    </tr>\n",
       "    <tr>\n",
       "      <th>4</th>\n",
       "      <td>601</td>\n",
       "      <td>93</td>\n",
       "      <td>39</td>\n",
       "      <td>78</td>\n",
       "      <td>164</td>\n",
       "      <td>66</td>\n",
       "      <td>8</td>\n",
       "      <td>139</td>\n",
       "      <td>48</td>\n",
       "      <td>18</td>\n",
       "      <td>140</td>\n",
       "      <td>157</td>\n",
       "      <td>290</td>\n",
       "      <td>126</td>\n",
       "      <td>64</td>\n",
       "      <td>4</td>\n",
       "      <td>7</td>\n",
       "      <td>201</td>\n",
       "      <td>208</td>\n",
       "    </tr>\n",
       "    <tr>\n",
       "      <th>5</th>\n",
       "      <td>85</td>\n",
       "      <td>110</td>\n",
       "      <td>58</td>\n",
       "      <td>106</td>\n",
       "      <td>180</td>\n",
       "      <td>51</td>\n",
       "      <td>6</td>\n",
       "      <td>261</td>\n",
       "      <td>26</td>\n",
       "      <td>28</td>\n",
       "      <td>171</td>\n",
       "      <td>278</td>\n",
       "      <td>998</td>\n",
       "      <td>257</td>\n",
       "      <td>83</td>\n",
       "      <td>9</td>\n",
       "      <td>13</td>\n",
       "      <td>181</td>\n",
       "      <td>182</td>\n",
       "    </tr>\n",
       "    <tr>\n",
       "      <th>6</th>\n",
       "      <td>492</td>\n",
       "      <td>85</td>\n",
       "      <td>43</td>\n",
       "      <td>66</td>\n",
       "      <td>130</td>\n",
       "      <td>57</td>\n",
       "      <td>6</td>\n",
       "      <td>151</td>\n",
       "      <td>45</td>\n",
       "      <td>19</td>\n",
       "      <td>143</td>\n",
       "      <td>173</td>\n",
       "      <td>333</td>\n",
       "      <td>168</td>\n",
       "      <td>86</td>\n",
       "      <td>4</td>\n",
       "      <td>9</td>\n",
       "      <td>180</td>\n",
       "      <td>183</td>\n",
       "    </tr>\n",
       "    <tr>\n",
       "      <th>7</th>\n",
       "      <td>5</td>\n",
       "      <td>107</td>\n",
       "      <td>57</td>\n",
       "      <td>106</td>\n",
       "      <td>172</td>\n",
       "      <td>50</td>\n",
       "      <td>6</td>\n",
       "      <td>255</td>\n",
       "      <td>26</td>\n",
       "      <td>28</td>\n",
       "      <td>169</td>\n",
       "      <td>280</td>\n",
       "      <td>957</td>\n",
       "      <td>264</td>\n",
       "      <td>85</td>\n",
       "      <td>5</td>\n",
       "      <td>9</td>\n",
       "      <td>181</td>\n",
       "      <td>183</td>\n",
       "    </tr>\n",
       "    <tr>\n",
       "      <th>8</th>\n",
       "      <td>270</td>\n",
       "      <td>82</td>\n",
       "      <td>45</td>\n",
       "      <td>68</td>\n",
       "      <td>150</td>\n",
       "      <td>69</td>\n",
       "      <td>5</td>\n",
       "      <td>148</td>\n",
       "      <td>45</td>\n",
       "      <td>19</td>\n",
       "      <td>144</td>\n",
       "      <td>169</td>\n",
       "      <td>322</td>\n",
       "      <td>184</td>\n",
       "      <td>80</td>\n",
       "      <td>5</td>\n",
       "      <td>0</td>\n",
       "      <td>181</td>\n",
       "      <td>184</td>\n",
       "    </tr>\n",
       "    <tr>\n",
       "      <th>9</th>\n",
       "      <td>356</td>\n",
       "      <td>91</td>\n",
       "      <td>45</td>\n",
       "      <td>76</td>\n",
       "      <td>171</td>\n",
       "      <td>69</td>\n",
       "      <td>7</td>\n",
       "      <td>150</td>\n",
       "      <td>44</td>\n",
       "      <td>19</td>\n",
       "      <td>144</td>\n",
       "      <td>170</td>\n",
       "      <td>340</td>\n",
       "      <td>179</td>\n",
       "      <td>69</td>\n",
       "      <td>12</td>\n",
       "      <td>1</td>\n",
       "      <td>195</td>\n",
       "      <td>201</td>\n",
       "    </tr>\n",
       "    <tr>\n",
       "      <th>10</th>\n",
       "      <td>442</td>\n",
       "      <td>91</td>\n",
       "      <td>36</td>\n",
       "      <td>60</td>\n",
       "      <td>126</td>\n",
       "      <td>56</td>\n",
       "      <td>6</td>\n",
       "      <td>119</td>\n",
       "      <td>56</td>\n",
       "      <td>17</td>\n",
       "      <td>130</td>\n",
       "      <td>139</td>\n",
       "      <td>211</td>\n",
       "      <td>118</td>\n",
       "      <td>67</td>\n",
       "      <td>6</td>\n",
       "      <td>14</td>\n",
       "      <td>192</td>\n",
       "      <td>198</td>\n",
       "    </tr>\n",
       "    <tr>\n",
       "      <th>11</th>\n",
       "      <td>375</td>\n",
       "      <td>109</td>\n",
       "      <td>52</td>\n",
       "      <td>95</td>\n",
       "      <td>189</td>\n",
       "      <td>58</td>\n",
       "      <td>4</td>\n",
       "      <td>227</td>\n",
       "      <td>29</td>\n",
       "      <td>25</td>\n",
       "      <td>158</td>\n",
       "      <td>262</td>\n",
       "      <td>776</td>\n",
       "      <td>217</td>\n",
       "      <td>82</td>\n",
       "      <td>0</td>\n",
       "      <td>19</td>\n",
       "      <td>187</td>\n",
       "      <td>186</td>\n",
       "    </tr>\n",
       "    <tr>\n",
       "      <th>12</th>\n",
       "      <td>51</td>\n",
       "      <td>92</td>\n",
       "      <td>38</td>\n",
       "      <td>71</td>\n",
       "      <td>174</td>\n",
       "      <td>66</td>\n",
       "      <td>7</td>\n",
       "      <td>154</td>\n",
       "      <td>43</td>\n",
       "      <td>19</td>\n",
       "      <td>133</td>\n",
       "      <td>181</td>\n",
       "      <td>355</td>\n",
       "      <td>130</td>\n",
       "      <td>70</td>\n",
       "      <td>4</td>\n",
       "      <td>24</td>\n",
       "      <td>189</td>\n",
       "      <td>195</td>\n",
       "    </tr>\n",
       "    <tr>\n",
       "      <th>13</th>\n",
       "      <td>47</td>\n",
       "      <td>85</td>\n",
       "      <td>42</td>\n",
       "      <td>66</td>\n",
       "      <td>122</td>\n",
       "      <td>54</td>\n",
       "      <td>6</td>\n",
       "      <td>148</td>\n",
       "      <td>46</td>\n",
       "      <td>19</td>\n",
       "      <td>141</td>\n",
       "      <td>172</td>\n",
       "      <td>317</td>\n",
       "      <td>174</td>\n",
       "      <td>88</td>\n",
       "      <td>6</td>\n",
       "      <td>14</td>\n",
       "      <td>180</td>\n",
       "      <td>182</td>\n",
       "    </tr>\n",
       "    <tr>\n",
       "      <th>14</th>\n",
       "      <td>512</td>\n",
       "      <td>103</td>\n",
       "      <td>54</td>\n",
       "      <td>107</td>\n",
       "      <td>189</td>\n",
       "      <td>56</td>\n",
       "      <td>11</td>\n",
       "      <td>223</td>\n",
       "      <td>30</td>\n",
       "      <td>25</td>\n",
       "      <td>174</td>\n",
       "      <td>225</td>\n",
       "      <td>729</td>\n",
       "      <td>200</td>\n",
       "      <td>70</td>\n",
       "      <td>0</td>\n",
       "      <td>29</td>\n",
       "      <td>187</td>\n",
       "      <td>201</td>\n",
       "    </tr>\n",
       "  </tbody>\n",
       "</table>\n",
       "</div>"
      ],
      "text/plain": [
       "      0    1   2    3    4   5   6    7   8   9   10   11   12   13  14  15  \\\n",
       "0   249   85  34   53  127  58   6  116  58  17  121  137  197  127  70   3   \n",
       "1   515   76  38   58  125  58   5  133  51  18  127  152  259  145  87   0   \n",
       "2   721  105  54  108  234  70  12  215  31  24  168  226  687  228  68   4   \n",
       "3   825   86  39   84  149  57   8  156  43  20  133  185  358  157  74   0   \n",
       "4   601   93  39   78  164  66   8  139  48  18  140  157  290  126  64   4   \n",
       "5    85  110  58  106  180  51   6  261  26  28  171  278  998  257  83   9   \n",
       "6   492   85  43   66  130  57   6  151  45  19  143  173  333  168  86   4   \n",
       "7     5  107  57  106  172  50   6  255  26  28  169  280  957  264  85   5   \n",
       "8   270   82  45   68  150  69   5  148  45  19  144  169  322  184  80   5   \n",
       "9   356   91  45   76  171  69   7  150  44  19  144  170  340  179  69  12   \n",
       "10  442   91  36   60  126  56   6  119  56  17  130  139  211  118  67   6   \n",
       "11  375  109  52   95  189  58   4  227  29  25  158  262  776  217  82   0   \n",
       "12   51   92  38   71  174  66   7  154  43  19  133  181  355  130  70   4   \n",
       "13   47   85  42   66  122  54   6  148  46  19  141  172  317  174  88   6   \n",
       "14  512  103  54  107  189  56  11  223  30  25  174  225  729  200  70   0   \n",
       "\n",
       "    16   17   18  \n",
       "0   20  185  189  \n",
       "1   21  177  184  \n",
       "2   22  189  201  \n",
       "3   23  183  190  \n",
       "4    7  201  208  \n",
       "5   13  181  182  \n",
       "6    9  180  183  \n",
       "7    9  181  183  \n",
       "8    0  181  184  \n",
       "9    1  195  201  \n",
       "10  14  192  198  \n",
       "11  19  187  186  \n",
       "12  24  189  195  \n",
       "13  14  180  182  \n",
       "14  29  187  201  "
      ]
     },
     "execution_count": 3,
     "metadata": {},
     "output_type": "execute_result"
    }
   ],
   "source": [
    "X_train_pd = pd.DataFrame(X_train)\n",
    "\n",
    "# First 15 rows of our dataset.\n",
    "X_train_pd.head(15)"
   ]
  },
  {
   "cell_type": "markdown",
   "metadata": {
    "nbgrader": {
     "grade": false,
     "grade_id": "cell-98e7d91d77d65fcf",
     "locked": true,
     "schema_version": 2,
     "solution": false
    }
   },
   "source": [
    "Methods `describe` and `info` deliver some useful information."
   ]
  },
  {
   "cell_type": "code",
   "execution_count": 4,
   "metadata": {},
   "outputs": [
    {
     "data": {
      "text/html": [
       "<div>\n",
       "<style scoped>\n",
       "    .dataframe tbody tr th:only-of-type {\n",
       "        vertical-align: middle;\n",
       "    }\n",
       "\n",
       "    .dataframe tbody tr th {\n",
       "        vertical-align: top;\n",
       "    }\n",
       "\n",
       "    .dataframe thead th {\n",
       "        text-align: right;\n",
       "    }\n",
       "</style>\n",
       "<table border=\"1\" class=\"dataframe\">\n",
       "  <thead>\n",
       "    <tr style=\"text-align: right;\">\n",
       "      <th></th>\n",
       "      <th>0</th>\n",
       "      <th>1</th>\n",
       "      <th>2</th>\n",
       "      <th>3</th>\n",
       "      <th>4</th>\n",
       "      <th>5</th>\n",
       "      <th>6</th>\n",
       "      <th>7</th>\n",
       "      <th>8</th>\n",
       "      <th>9</th>\n",
       "      <th>10</th>\n",
       "      <th>11</th>\n",
       "      <th>12</th>\n",
       "      <th>13</th>\n",
       "      <th>14</th>\n",
       "      <th>15</th>\n",
       "      <th>16</th>\n",
       "      <th>17</th>\n",
       "      <th>18</th>\n",
       "    </tr>\n",
       "  </thead>\n",
       "  <tbody>\n",
       "    <tr>\n",
       "      <th>count</th>\n",
       "      <td>549.000000</td>\n",
       "      <td>549.000000</td>\n",
       "      <td>549.000000</td>\n",
       "      <td>549.000000</td>\n",
       "      <td>549.000000</td>\n",
       "      <td>549.000000</td>\n",
       "      <td>549.000000</td>\n",
       "      <td>549.000000</td>\n",
       "      <td>549.000000</td>\n",
       "      <td>549.000000</td>\n",
       "      <td>549.000000</td>\n",
       "      <td>549.000000</td>\n",
       "      <td>549.000000</td>\n",
       "      <td>549.000000</td>\n",
       "      <td>549.000000</td>\n",
       "      <td>549.000000</td>\n",
       "      <td>549.000000</td>\n",
       "      <td>549.000000</td>\n",
       "      <td>549.000000</td>\n",
       "    </tr>\n",
       "    <tr>\n",
       "      <th>mean</th>\n",
       "      <td>427.608379</td>\n",
       "      <td>93.555556</td>\n",
       "      <td>44.703097</td>\n",
       "      <td>81.442623</td>\n",
       "      <td>168.502732</td>\n",
       "      <td>61.779599</td>\n",
       "      <td>8.615665</td>\n",
       "      <td>167.766849</td>\n",
       "      <td>41.171220</td>\n",
       "      <td>20.508197</td>\n",
       "      <td>147.601093</td>\n",
       "      <td>188.003643</td>\n",
       "      <td>434.688525</td>\n",
       "      <td>173.925319</td>\n",
       "      <td>72.588342</td>\n",
       "      <td>6.479053</td>\n",
       "      <td>12.663024</td>\n",
       "      <td>189.060109</td>\n",
       "      <td>195.591985</td>\n",
       "    </tr>\n",
       "    <tr>\n",
       "      <th>std</th>\n",
       "      <td>244.803306</td>\n",
       "      <td>8.150227</td>\n",
       "      <td>6.187845</td>\n",
       "      <td>15.656989</td>\n",
       "      <td>33.774511</td>\n",
       "      <td>8.450838</td>\n",
       "      <td>5.169730</td>\n",
       "      <td>33.055200</td>\n",
       "      <td>7.827509</td>\n",
       "      <td>2.559943</td>\n",
       "      <td>14.499537</td>\n",
       "      <td>31.532858</td>\n",
       "      <td>175.489533</td>\n",
       "      <td>32.777839</td>\n",
       "      <td>7.851143</td>\n",
       "      <td>5.044512</td>\n",
       "      <td>9.051017</td>\n",
       "      <td>6.296073</td>\n",
       "      <td>7.502628</td>\n",
       "    </tr>\n",
       "    <tr>\n",
       "      <th>min</th>\n",
       "      <td>0.000000</td>\n",
       "      <td>76.000000</td>\n",
       "      <td>33.000000</td>\n",
       "      <td>40.000000</td>\n",
       "      <td>104.000000</td>\n",
       "      <td>47.000000</td>\n",
       "      <td>3.000000</td>\n",
       "      <td>112.000000</td>\n",
       "      <td>26.000000</td>\n",
       "      <td>17.000000</td>\n",
       "      <td>118.000000</td>\n",
       "      <td>130.000000</td>\n",
       "      <td>184.000000</td>\n",
       "      <td>109.000000</td>\n",
       "      <td>59.000000</td>\n",
       "      <td>0.000000</td>\n",
       "      <td>0.000000</td>\n",
       "      <td>176.000000</td>\n",
       "      <td>181.000000</td>\n",
       "    </tr>\n",
       "    <tr>\n",
       "      <th>25%</th>\n",
       "      <td>220.000000</td>\n",
       "      <td>87.000000</td>\n",
       "      <td>40.000000</td>\n",
       "      <td>70.000000</td>\n",
       "      <td>140.000000</td>\n",
       "      <td>57.000000</td>\n",
       "      <td>6.000000</td>\n",
       "      <td>146.000000</td>\n",
       "      <td>34.000000</td>\n",
       "      <td>19.000000</td>\n",
       "      <td>136.000000</td>\n",
       "      <td>166.000000</td>\n",
       "      <td>314.000000</td>\n",
       "      <td>149.000000</td>\n",
       "      <td>67.000000</td>\n",
       "      <td>2.000000</td>\n",
       "      <td>5.000000</td>\n",
       "      <td>184.000000</td>\n",
       "      <td>190.000000</td>\n",
       "    </tr>\n",
       "    <tr>\n",
       "      <th>50%</th>\n",
       "      <td>428.000000</td>\n",
       "      <td>93.000000</td>\n",
       "      <td>44.000000</td>\n",
       "      <td>78.000000</td>\n",
       "      <td>166.000000</td>\n",
       "      <td>61.000000</td>\n",
       "      <td>8.000000</td>\n",
       "      <td>156.000000</td>\n",
       "      <td>43.000000</td>\n",
       "      <td>19.000000</td>\n",
       "      <td>146.000000</td>\n",
       "      <td>178.000000</td>\n",
       "      <td>362.000000</td>\n",
       "      <td>173.000000</td>\n",
       "      <td>72.000000</td>\n",
       "      <td>6.000000</td>\n",
       "      <td>11.000000</td>\n",
       "      <td>188.000000</td>\n",
       "      <td>197.000000</td>\n",
       "    </tr>\n",
       "    <tr>\n",
       "      <th>75%</th>\n",
       "      <td>640.000000</td>\n",
       "      <td>99.000000</td>\n",
       "      <td>49.000000</td>\n",
       "      <td>96.000000</td>\n",
       "      <td>194.000000</td>\n",
       "      <td>65.000000</td>\n",
       "      <td>10.000000</td>\n",
       "      <td>196.000000</td>\n",
       "      <td>46.000000</td>\n",
       "      <td>23.000000</td>\n",
       "      <td>159.000000</td>\n",
       "      <td>216.000000</td>\n",
       "      <td>575.000000</td>\n",
       "      <td>196.000000</td>\n",
       "      <td>76.000000</td>\n",
       "      <td>10.000000</td>\n",
       "      <td>19.000000</td>\n",
       "      <td>193.000000</td>\n",
       "      <td>201.000000</td>\n",
       "    </tr>\n",
       "    <tr>\n",
       "      <th>max</th>\n",
       "      <td>845.000000</td>\n",
       "      <td>116.000000</td>\n",
       "      <td>59.000000</td>\n",
       "      <td>110.000000</td>\n",
       "      <td>333.000000</td>\n",
       "      <td>138.000000</td>\n",
       "      <td>55.000000</td>\n",
       "      <td>262.000000</td>\n",
       "      <td>61.000000</td>\n",
       "      <td>28.000000</td>\n",
       "      <td>188.000000</td>\n",
       "      <td>320.000000</td>\n",
       "      <td>998.000000</td>\n",
       "      <td>268.000000</td>\n",
       "      <td>135.000000</td>\n",
       "      <td>22.000000</td>\n",
       "      <td>41.000000</td>\n",
       "      <td>206.000000</td>\n",
       "      <td>211.000000</td>\n",
       "    </tr>\n",
       "  </tbody>\n",
       "</table>\n",
       "</div>"
      ],
      "text/plain": [
       "               0           1           2           3           4           5   \\\n",
       "count  549.000000  549.000000  549.000000  549.000000  549.000000  549.000000   \n",
       "mean   427.608379   93.555556   44.703097   81.442623  168.502732   61.779599   \n",
       "std    244.803306    8.150227    6.187845   15.656989   33.774511    8.450838   \n",
       "min      0.000000   76.000000   33.000000   40.000000  104.000000   47.000000   \n",
       "25%    220.000000   87.000000   40.000000   70.000000  140.000000   57.000000   \n",
       "50%    428.000000   93.000000   44.000000   78.000000  166.000000   61.000000   \n",
       "75%    640.000000   99.000000   49.000000   96.000000  194.000000   65.000000   \n",
       "max    845.000000  116.000000   59.000000  110.000000  333.000000  138.000000   \n",
       "\n",
       "               6           7           8           9           10          11  \\\n",
       "count  549.000000  549.000000  549.000000  549.000000  549.000000  549.000000   \n",
       "mean     8.615665  167.766849   41.171220   20.508197  147.601093  188.003643   \n",
       "std      5.169730   33.055200    7.827509    2.559943   14.499537   31.532858   \n",
       "min      3.000000  112.000000   26.000000   17.000000  118.000000  130.000000   \n",
       "25%      6.000000  146.000000   34.000000   19.000000  136.000000  166.000000   \n",
       "50%      8.000000  156.000000   43.000000   19.000000  146.000000  178.000000   \n",
       "75%     10.000000  196.000000   46.000000   23.000000  159.000000  216.000000   \n",
       "max     55.000000  262.000000   61.000000   28.000000  188.000000  320.000000   \n",
       "\n",
       "               12          13          14          15          16          17  \\\n",
       "count  549.000000  549.000000  549.000000  549.000000  549.000000  549.000000   \n",
       "mean   434.688525  173.925319   72.588342    6.479053   12.663024  189.060109   \n",
       "std    175.489533   32.777839    7.851143    5.044512    9.051017    6.296073   \n",
       "min    184.000000  109.000000   59.000000    0.000000    0.000000  176.000000   \n",
       "25%    314.000000  149.000000   67.000000    2.000000    5.000000  184.000000   \n",
       "50%    362.000000  173.000000   72.000000    6.000000   11.000000  188.000000   \n",
       "75%    575.000000  196.000000   76.000000   10.000000   19.000000  193.000000   \n",
       "max    998.000000  268.000000  135.000000   22.000000   41.000000  206.000000   \n",
       "\n",
       "               18  \n",
       "count  549.000000  \n",
       "mean   195.591985  \n",
       "std      7.502628  \n",
       "min    181.000000  \n",
       "25%    190.000000  \n",
       "50%    197.000000  \n",
       "75%    201.000000  \n",
       "max    211.000000  "
      ]
     },
     "execution_count": 4,
     "metadata": {},
     "output_type": "execute_result"
    }
   ],
   "source": [
    "X_train_pd.describe()"
   ]
  },
  {
   "cell_type": "code",
   "execution_count": 5,
   "metadata": {},
   "outputs": [
    {
     "name": "stdout",
     "output_type": "stream",
     "text": [
      "<class 'pandas.core.frame.DataFrame'>\n",
      "RangeIndex: 549 entries, 0 to 548\n",
      "Data columns (total 19 columns):\n",
      " #   Column  Non-Null Count  Dtype\n",
      "---  ------  --------------  -----\n",
      " 0   0       549 non-null    int64\n",
      " 1   1       549 non-null    int64\n",
      " 2   2       549 non-null    int64\n",
      " 3   3       549 non-null    int64\n",
      " 4   4       549 non-null    int64\n",
      " 5   5       549 non-null    int64\n",
      " 6   6       549 non-null    int64\n",
      " 7   7       549 non-null    int64\n",
      " 8   8       549 non-null    int64\n",
      " 9   9       549 non-null    int64\n",
      " 10  10      549 non-null    int64\n",
      " 11  11      549 non-null    int64\n",
      " 12  12      549 non-null    int64\n",
      " 13  13      549 non-null    int64\n",
      " 14  14      549 non-null    int64\n",
      " 15  15      549 non-null    int64\n",
      " 16  16      549 non-null    int64\n",
      " 17  17      549 non-null    int64\n",
      " 18  18      549 non-null    int64\n",
      "dtypes: int64(19)\n",
      "memory usage: 81.6 KB\n"
     ]
    }
   ],
   "source": [
    "X_train_pd.info()"
   ]
  },
  {
   "cell_type": "markdown",
   "metadata": {
    "nbgrader": {
     "grade": false,
     "grade_id": "cell-be844269be69c387",
     "locked": true,
     "schema_version": 2,
     "solution": false
    }
   },
   "source": [
    "### 2. Machine Learning pipeline\n",
    "Here you are supposed to perform the desired transformations. Please, explain your results briefly after each task."
   ]
  },
  {
   "cell_type": "markdown",
   "metadata": {},
   "source": [
    "#### 2.0. Data preprocessing\n",
    "* Make some transformations of the dataset (if necessary). Briefly explain the transformations"
   ]
  },
  {
   "cell_type": "code",
   "execution_count": 6,
   "metadata": {
    "nbgrader": {
     "grade": true,
     "grade_id": "cell-a1514aa189a49fca",
     "locked": false,
     "points": 15,
     "schema_version": 2,
     "solution": true
    }
   },
   "outputs": [],
   "source": [
    "# use Standart scaler to norm data by std\n",
    "from sklearn.preprocessing import StandardScaler\n",
    "scale_features_std = StandardScaler()\n",
    "X_train = scale_features_std.fit_transform(X_train)\n",
    "X_test = scale_features_std.transform(X_test)"
   ]
  },
  {
   "cell_type": "code",
   "execution_count": 7,
   "metadata": {},
   "outputs": [
    {
     "name": "stdout",
     "output_type": "stream",
     "text": [
      "<class 'pandas.core.frame.DataFrame'>\n",
      "RangeIndex: 549 entries, 0 to 548\n",
      "Data columns (total 19 columns):\n",
      " #   Column  Non-Null Count  Dtype  \n",
      "---  ------  --------------  -----  \n",
      " 0   0       549 non-null    float64\n",
      " 1   1       549 non-null    float64\n",
      " 2   2       549 non-null    float64\n",
      " 3   3       549 non-null    float64\n",
      " 4   4       549 non-null    float64\n",
      " 5   5       549 non-null    float64\n",
      " 6   6       549 non-null    float64\n",
      " 7   7       549 non-null    float64\n",
      " 8   8       549 non-null    float64\n",
      " 9   9       549 non-null    float64\n",
      " 10  10      549 non-null    float64\n",
      " 11  11      549 non-null    float64\n",
      " 12  12      549 non-null    float64\n",
      " 13  13      549 non-null    float64\n",
      " 14  14      549 non-null    float64\n",
      " 15  15      549 non-null    float64\n",
      " 16  16      549 non-null    float64\n",
      " 17  17      549 non-null    float64\n",
      " 18  18      549 non-null    float64\n",
      "dtypes: float64(19)\n",
      "memory usage: 81.6 KB\n"
     ]
    }
   ],
   "source": [
    "X_train_pd = pd.DataFrame(X_train)\n",
    "X_train_pd.describe()\n",
    "X_train_pd.info()"
   ]
  },
  {
   "cell_type": "markdown",
   "metadata": {},
   "source": [
    "##### 2.1. Basic logistic regression\n",
    "* Find optimal hyperparameters for logistic regression with cross-validation on the `train` data (small grid/random search is enough, no need to find the *best* parameters).\n",
    "\n",
    "* Estimate the model quality with `f1` and `accuracy` scores.\n",
    "* Plot a ROC-curve for the trained model. For the multiclass case you might use `scikitplot` library (e.g. `scikitplot.metrics.plot_roc(test_labels, predicted_proba)`).\n",
    "\n",
    "*Note: please, use the following hyperparameters for logistic regression: `multi_class='multinomial'`, `solver='saga'` `tol=1e-3` and ` max_iter=500`.*"
   ]
  },
  {
   "cell_type": "code",
   "execution_count": 8,
   "metadata": {
    "nbgrader": {
     "grade": true,
     "grade_id": "cell-1dd5ad5d0845cbbb",
     "locked": false,
     "points": 5,
     "schema_version": 2,
     "solution": true
    }
   },
   "outputs": [],
   "source": [
    "from sklearn import model_selection, linear_model, metrics\n",
    "labels = list(tuple(target))\n",
    "log_regressor = linear_model.LogisticRegression(multi_class='multinomial', solver='saga', tol=1e-3, max_iter=500)"
   ]
  },
  {
   "cell_type": "code",
   "execution_count": 9,
   "metadata": {},
   "outputs": [
    {
     "name": "stdout",
     "output_type": "stream",
     "text": [
      "Best: 0.795993 using {'C': 100}\n",
      "0.795993 (0.041283) with: {'C': 100}\n",
      "0.790505 (0.037600) with: {'C': 10}\n",
      "0.788620 (0.041343) with: {'C': 1.0}\n",
      "0.743131 (0.034242) with: {'C': 0.1}\n",
      "0.673906 (0.035343) with: {'C': 0.01}\n"
     ]
    }
   ],
   "source": [
    "c_values = [100, 10, 1.0, 0.1, 0.01]\n",
    "grid_search = model_selection.GridSearchCV(estimator=log_regressor, param_grid=dict(C=c_values), n_jobs=-1, cv=10, scoring='accuracy',error_score=0)\n",
    "grid_result = grid_search.fit(X_train, y_train)\n",
    "\n",
    "print(\"Best: %f using %s\" % (grid_result.best_score_, grid_result.best_params_))\n",
    "means = grid_result.cv_results_['mean_test_score']\n",
    "stds = grid_result.cv_results_['std_test_score']\n",
    "params = grid_result.cv_results_['params']\n",
    "for mean, stdev, param in zip(means, stds, params):\n",
    "    print(\"%f (%f) with: %r\" % (mean, stdev, param))"
   ]
  },
  {
   "cell_type": "code",
   "execution_count": 10,
   "metadata": {},
   "outputs": [
    {
     "data": {
      "text/plain": [
       "LogisticRegression(C=100, max_iter=500, multi_class='multinomial',\n",
       "                   solver='saga', tol=0.001)"
      ]
     },
     "execution_count": 10,
     "metadata": {},
     "output_type": "execute_result"
    }
   ],
   "source": [
    "log_regressor = linear_model.LogisticRegression(C=grid_result.best_params_['C'], multi_class='multinomial', solver='saga', tol=1e-3, max_iter=500)\n",
    "log_regressor.fit(X_train, y_train)"
   ]
  },
  {
   "cell_type": "code",
   "execution_count": 11,
   "metadata": {},
   "outputs": [],
   "source": [
    "lr_proba_predictions = log_regressor.predict_proba(X_test)\n",
    "lr_predictions = log_regressor.predict(X_test)\n",
    "labels = list(tuple(y_train))"
   ]
  },
  {
   "cell_type": "code",
   "execution_count": 12,
   "metadata": {},
   "outputs": [],
   "source": [
    "from sklearn import metrics"
   ]
  },
  {
   "cell_type": "code",
   "execution_count": 13,
   "metadata": {},
   "outputs": [
    {
     "data": {
      "text/plain": [
       "0.797979797979798"
      ]
     },
     "execution_count": 13,
     "metadata": {},
     "output_type": "execute_result"
    }
   ],
   "source": [
    "metrics.accuracy_score(y_test, lr_predictions)"
   ]
  },
  {
   "cell_type": "code",
   "execution_count": 14,
   "metadata": {},
   "outputs": [
    {
     "data": {
      "text/plain": [
       "0.7965809837663005"
      ]
     },
     "execution_count": 14,
     "metadata": {},
     "output_type": "execute_result"
    }
   ],
   "source": [
    "metrics.f1_score(y_test, lr_predictions, labels=labels, average='weighted')"
   ]
  },
  {
   "cell_type": "code",
   "execution_count": 15,
   "metadata": {},
   "outputs": [],
   "source": [
    "# You might use this command to install scikit-plot. \n",
    "# Warning, if you a running locally, don't call pip from within jupyter, call it from terminal in the corresponding \n",
    "# virtual environment instead\n",
    "\n",
    "#! pip install scikit-plot"
   ]
  },
  {
   "cell_type": "code",
   "execution_count": 16,
   "metadata": {},
   "outputs": [
    {
     "data": {
      "text/plain": [
       "<matplotlib.axes._subplots.AxesSubplot at 0x119863898>"
      ]
     },
     "execution_count": 16,
     "metadata": {},
     "output_type": "execute_result"
    },
    {
     "data": {
      "image/png": "[encoded data removed]",
      "text/plain": [
       "<Figure size 432x288 with 1 Axes>"
      ]
     },
     "metadata": {
      "needs_background": "light"
     },
     "output_type": "display_data"
    }
   ],
   "source": [
    "import scikitplot\n",
    "scikitplot.metrics.plot_roc(y_test, lr_proba_predictions)"
   ]
  },
  {
   "cell_type": "markdown",
   "metadata": {},
   "source": [
    "#### 2.2. PCA: explained variance plot\n",
    "* Apply the PCA to the train part of the data. Build the explaided variance plot. "
   ]
  },
  {
   "cell_type": "code",
   "execution_count": 17,
   "metadata": {
    "nbgrader": {
     "grade": true,
     "grade_id": "cell-c6c614740bce090e",
     "locked": false,
     "points": 10,
     "schema_version": 2,
     "solution": true
    }
   },
   "outputs": [],
   "source": [
    "from sklearn.decomposition import PCA"
   ]
  },
  {
   "cell_type": "code",
   "execution_count": 18,
   "metadata": {},
   "outputs": [],
   "source": [
    "pca = PCA()"
   ]
  },
  {
   "cell_type": "code",
   "execution_count": 19,
   "metadata": {},
   "outputs": [
    {
     "data": {
      "text/plain": [
       "19"
      ]
     },
     "execution_count": 19,
     "metadata": {},
     "output_type": "execute_result"
    }
   ],
   "source": [
    "pca.fit(X_train)\n",
    "pca.n_components_"
   ]
  },
  {
   "cell_type": "code",
   "execution_count": 20,
   "metadata": {},
   "outputs": [
    {
     "data": {
      "text/plain": [
       "array([4.92771916e-01, 1.57474578e-01, 1.06624042e-01, 6.10499733e-02,\n",
       "       5.18612434e-02, 4.89455708e-02, 2.79654429e-02, 1.75809639e-02,\n",
       "       1.21438088e-02, 8.48989919e-03, 4.63439853e-03, 3.48896786e-03,\n",
       "       2.23875478e-03, 1.85493024e-03, 1.12113391e-03, 7.63438710e-04,\n",
       "       6.46962832e-04, 3.25397362e-04, 1.85769799e-05])"
      ]
     },
     "execution_count": 20,
     "metadata": {},
     "output_type": "execute_result"
    }
   ],
   "source": [
    "pca.explained_variance_ratio_"
   ]
  },
  {
   "cell_type": "code",
   "execution_count": 21,
   "metadata": {},
   "outputs": [
    {
     "data": {
      "image/png": "[encoded data removed]",
      "text/plain": [
       "<Figure size 432x288 with 1 Axes>"
      ]
     },
     "metadata": {
      "needs_background": "light"
     },
     "output_type": "display_data"
    }
   ],
   "source": [
    "import matplotlib.pyplot as plt\n",
    "%matplotlib inline\n",
    "\n",
    "plt.plot(range(pca.n_components_), pca.explained_variance_ratio_)\n",
    "plt.ylabel('Explained Variance')\n",
    "plt.xlabel('Principal Components')\n",
    "plt.title('Explained Variance Ratio')\n",
    "plt.show()"
   ]
  },
  {
   "cell_type": "markdown",
   "metadata": {
    "nbgrader": {
     "grade": false,
     "grade_id": "cell-0c1fe666f52fe53c",
     "locked": true,
     "schema_version": 2,
     "solution": false
    }
   },
   "source": [
    "#### 2.3. PCA trasformation\n",
    "* Select the appropriate number of components. Briefly explain your choice. Should you normalize the data?\n",
    "\n",
    "*Use `fit` and `transform` methods to transform the `train` and `test` parts.*"
   ]
  },
  {
   "cell_type": "code",
   "execution_count": 22,
   "metadata": {
    "nbgrader": {
     "grade": true,
     "grade_id": "cell-96ab18d96473ef71",
     "locked": false,
     "points": 5,
     "schema_version": 2,
     "solution": true
    }
   },
   "outputs": [
    {
     "name": "stdout",
     "output_type": "stream",
     "text": [
      "10\n"
     ]
    }
   ],
   "source": [
    "#save components that the amount of variance that needs to be explained is greater than the percentage specified by n_components.\n",
    "pca = PCA(.98)\n",
    "pca.fit(X_train)\n",
    "print(pca.n_components_)\n",
    "X_train_pca = pca.transform(X_train)\n",
    "X_test_pca = pca.transform(X_test)"
   ]
  },
  {
   "cell_type": "code",
   "execution_count": 23,
   "metadata": {},
   "outputs": [
    {
     "name": "stdout",
     "output_type": "stream",
     "text": [
      "<class 'pandas.core.frame.DataFrame'>\n",
      "RangeIndex: 297 entries, 0 to 296\n",
      "Data columns (total 10 columns):\n",
      " #   Column  Non-Null Count  Dtype  \n",
      "---  ------  --------------  -----  \n",
      " 0   0       297 non-null    float64\n",
      " 1   1       297 non-null    float64\n",
      " 2   2       297 non-null    float64\n",
      " 3   3       297 non-null    float64\n",
      " 4   4       297 non-null    float64\n",
      " 5   5       297 non-null    float64\n",
      " 6   6       297 non-null    float64\n",
      " 7   7       297 non-null    float64\n",
      " 8   8       297 non-null    float64\n",
      " 9   9       297 non-null    float64\n",
      "dtypes: float64(10)\n",
      "memory usage: 23.3 KB\n"
     ]
    }
   ],
   "source": [
    "pd.DataFrame(X_test_pca).info()"
   ]
  },
  {
   "cell_type": "markdown",
   "metadata": {},
   "source": [
    "**Note: From this point `sklearn` [Pipeline](https://scikit-learn.org/stable/modules/compose.html) might be useful to perform transformations on the data. Refer to the [docs](https://scikit-learn.org/stable/modules/generated/sklearn.pipeline.Pipeline.html) for more information.**"
   ]
  },
  {
   "cell_type": "markdown",
   "metadata": {
    "nbgrader": {
     "grade": false,
     "grade_id": "cell-d28b58a35c94e988",
     "locked": true,
     "schema_version": 2,
     "solution": false
    }
   },
   "source": [
    "#### 2.4. Logistic regression on PCA-preprocessed data.\n",
    "* Find optimal hyperparameters for logistic regression with cross-validation on the transformed by PCA `train` data.\n",
    "\n",
    "* Estimate the model quality with `f1` and `accuracy` scores.\n",
    "* Plot a ROC-curve for the trained model. For the multiclass case you might use `scikitplot` library (e.g. `scikitplot.metrics.plot_roc(test_labels, predicted_proba)`).\n",
    "\n",
    "*Note: please, use the following hyperparameters for logistic regression: `multi_class='multinomial'`, `solver='saga'` and `tol=1e-3`*"
   ]
  },
  {
   "cell_type": "code",
   "execution_count": 24,
   "metadata": {
    "nbgrader": {
     "grade": true,
     "grade_id": "cell-12d53ea45258fa82",
     "locked": false,
     "points": 5,
     "schema_version": 2,
     "solution": true
    }
   },
   "outputs": [],
   "source": [
    "log_regressor = linear_model.LogisticRegression(multi_class='multinomial', solver='saga', tol=1e-3, max_iter=500)"
   ]
  },
  {
   "cell_type": "code",
   "execution_count": 25,
   "metadata": {},
   "outputs": [
    {
     "name": "stdout",
     "output_type": "stream",
     "text": [
      "Best: 0.708586 using {'C': 0.1}\n",
      "0.701246 (0.052339) with: {'C': 100}\n",
      "0.699428 (0.049761) with: {'C': 10}\n",
      "0.708519 (0.051656) with: {'C': 1.0}\n",
      "0.708586 (0.039632) with: {'C': 0.1}\n",
      "0.652088 (0.027539) with: {'C': 0.01}\n"
     ]
    }
   ],
   "source": [
    "c_values = [100, 10, 1.0, 0.1, 0.01]\n",
    "grid_search = model_selection.GridSearchCV(estimator=log_regressor, param_grid=dict(C=c_values), n_jobs=-1, cv=10, scoring='accuracy',error_score=0)\n",
    "grid_result = grid_search.fit(X_train_pca, y_train)\n",
    "\n",
    "print(\"Best: %f using %s\" % (grid_result.best_score_, grid_result.best_params_))\n",
    "means = grid_result.cv_results_['mean_test_score']\n",
    "stds = grid_result.cv_results_['std_test_score']\n",
    "params = grid_result.cv_results_['params']\n",
    "for mean, stdev, param in zip(means, stds, params):\n",
    "    print(\"%f (%f) with: %r\" % (mean, stdev, param))"
   ]
  },
  {
   "cell_type": "code",
   "execution_count": 26,
   "metadata": {},
   "outputs": [
    {
     "data": {
      "text/plain": [
       "LogisticRegression(C=0.1, max_iter=500, multi_class='multinomial',\n",
       "                   solver='saga', tol=0.001)"
      ]
     },
     "execution_count": 26,
     "metadata": {},
     "output_type": "execute_result"
    }
   ],
   "source": [
    "log_regressor = linear_model.LogisticRegression(C=grid_result.best_params_['C'],multi_class='multinomial', solver='saga', tol=1e-3, max_iter=500)\n",
    "log_regressor.fit(X_train_pca, y_train)"
   ]
  },
  {
   "cell_type": "code",
   "execution_count": 27,
   "metadata": {},
   "outputs": [
    {
     "data": {
      "text/plain": [
       "0.6531986531986532"
      ]
     },
     "execution_count": 27,
     "metadata": {},
     "output_type": "execute_result"
    }
   ],
   "source": [
    "lr_proba_predictions = log_regressor.predict_proba(X_test_pca)\n",
    "lr_predictions = log_regressor.predict(X_test_pca)\n",
    "\n",
    "metrics.accuracy_score(y_test, lr_predictions)"
   ]
  },
  {
   "cell_type": "code",
   "execution_count": 28,
   "metadata": {},
   "outputs": [
    {
     "data": {
      "text/plain": [
       "0.6426177533318631"
      ]
     },
     "execution_count": 28,
     "metadata": {},
     "output_type": "execute_result"
    }
   ],
   "source": [
    "metrics.f1_score(y_test, lr_predictions, labels=labels, average='weighted')"
   ]
  },
  {
   "cell_type": "code",
   "execution_count": 29,
   "metadata": {},
   "outputs": [
    {
     "data": {
      "text/plain": [
       "<matplotlib.axes._subplots.AxesSubplot at 0x119b0f908>"
      ]
     },
     "execution_count": 29,
     "metadata": {},
     "output_type": "execute_result"
    },
    {
     "data": {
      "image/png": "[encoded data removed]",
      "text/plain": [
       "<Figure size 432x288 with 1 Axes>"
      ]
     },
     "metadata": {
      "needs_background": "light"
     },
     "output_type": "display_data"
    }
   ],
   "source": [
    "scikitplot.metrics.plot_roc(y_test, lr_proba_predictions)"
   ]
  },
  {
   "cell_type": "markdown",
   "metadata": {
    "nbgrader": {
     "grade": false,
     "grade_id": "cell-4fbf16c64076e139",
     "locked": true,
     "schema_version": 2,
     "solution": false
    }
   },
   "source": [
    "#### 2.5. Decision tree\n",
    "* Now train a desicion tree on the same data. Find optimal tree depth (`max_depth`) using cross-validation.\n",
    "\n",
    "* Measure the model quality using the same metrics you used above."
   ]
  },
  {
   "cell_type": "code",
   "execution_count": 30,
   "metadata": {
    "nbgrader": {
     "grade": true,
     "grade_id": "cell-748ed20b51c67fab",
     "locked": false,
     "points": 15,
     "schema_version": 2,
     "solution": true
    }
   },
   "outputs": [],
   "source": [
    "from sklearn.tree import DecisionTreeClassifier\n",
    "tree = DecisionTreeClassifier()"
   ]
  },
  {
   "cell_type": "code",
   "execution_count": 31,
   "metadata": {},
   "outputs": [
    {
     "name": "stdout",
     "output_type": "stream",
     "text": [
      "Best: 0.695758 using {'max_depth': 22}\n",
      "0.000000 (0.000000) with: {'max_depth': 0}\n",
      "0.404276 (0.032249) with: {'max_depth': 1}\n",
      "0.544714 (0.038010) with: {'max_depth': 2}\n",
      "0.650168 (0.036378) with: {'max_depth': 3}\n",
      "0.662963 (0.056841) with: {'max_depth': 4}\n",
      "0.690269 (0.040460) with: {'max_depth': 5}\n",
      "0.686667 (0.032643) with: {'max_depth': 6}\n",
      "0.677441 (0.043694) with: {'max_depth': 7}\n",
      "0.681111 (0.041204) with: {'max_depth': 8}\n",
      "0.684714 (0.041492) with: {'max_depth': 9}\n",
      "0.673805 (0.044681) with: {'max_depth': 10}\n",
      "0.686667 (0.025863) with: {'max_depth': 11}\n",
      "0.686667 (0.039931) with: {'max_depth': 12}\n",
      "0.681145 (0.033759) with: {'max_depth': 13}\n",
      "0.692088 (0.040854) with: {'max_depth': 14}\n",
      "0.675724 (0.027307) with: {'max_depth': 15}\n",
      "0.679327 (0.037395) with: {'max_depth': 16}\n",
      "0.684815 (0.042018) with: {'max_depth': 17}\n",
      "0.684815 (0.031179) with: {'max_depth': 18}\n",
      "0.677576 (0.034689) with: {'max_depth': 19}\n",
      "0.688418 (0.032101) with: {'max_depth': 20}\n",
      "0.690269 (0.030161) with: {'max_depth': 21}\n",
      "0.695758 (0.033062) with: {'max_depth': 22}\n",
      "0.684848 (0.036665) with: {'max_depth': 23}\n",
      "0.684815 (0.044316) with: {'max_depth': 24}\n"
     ]
    }
   ],
   "source": [
    "depths_val = range(25)\n",
    "grid_search = model_selection.GridSearchCV(estimator=tree, param_grid=dict(max_depth=depths_val), n_jobs=-1, cv=10, scoring='accuracy',error_score=0)\n",
    "grid_result = grid_search.fit(X_train, y_train)\n",
    "\n",
    "print(\"Best: %f using %s\" % (grid_result.best_score_, grid_result.best_params_))\n",
    "means = grid_result.cv_results_['mean_test_score']\n",
    "stds = grid_result.cv_results_['std_test_score']\n",
    "params = grid_result.cv_results_['params']\n",
    "for mean, stdev, param in zip(means, stds, params):\n",
    "    print(\"%f (%f) with: %r\" % (mean, stdev, param))"
   ]
  },
  {
   "cell_type": "code",
   "execution_count": 32,
   "metadata": {},
   "outputs": [
    {
     "data": {
      "text/plain": [
       "DecisionTreeClassifier(max_depth=22)"
      ]
     },
     "execution_count": 32,
     "metadata": {},
     "output_type": "execute_result"
    }
   ],
   "source": [
    "tree = DecisionTreeClassifier(max_depth=grid_result.best_params_['max_depth'])\n",
    "tree.fit(X_train, y_train)"
   ]
  },
  {
   "cell_type": "code",
   "execution_count": 33,
   "metadata": {},
   "outputs": [
    {
     "data": {
      "text/plain": [
       "0.7003367003367004"
      ]
     },
     "execution_count": 33,
     "metadata": {},
     "output_type": "execute_result"
    }
   ],
   "source": [
    "tr_proba_predictions = tree.predict_proba(X_test)\n",
    "tr_predictions = tree.predict(X_test)\n",
    "\n",
    "metrics.accuracy_score(y_test, tr_predictions)"
   ]
  },
  {
   "cell_type": "code",
   "execution_count": 34,
   "metadata": {},
   "outputs": [
    {
     "data": {
      "text/plain": [
       "0.6984515835643841"
      ]
     },
     "execution_count": 34,
     "metadata": {},
     "output_type": "execute_result"
    }
   ],
   "source": [
    "metrics.f1_score(y_test, tr_predictions, labels=labels, average='weighted')"
   ]
  },
  {
   "cell_type": "code",
   "execution_count": 35,
   "metadata": {},
   "outputs": [
    {
     "data": {
      "text/plain": [
       "<matplotlib.axes._subplots.AxesSubplot at 0x11bdd19e8>"
      ]
     },
     "execution_count": 35,
     "metadata": {},
     "output_type": "execute_result"
    },
    {
     "data": {
      "image/png": "[encoded data removed]",
      "text/plain": [
       "<Figure size 432x288 with 1 Axes>"
      ]
     },
     "metadata": {
      "needs_background": "light"
     },
     "output_type": "display_data"
    }
   ],
   "source": [
    "scikitplot.metrics.plot_roc(y_test, tr_proba_predictions)"
   ]
  },
  {
   "cell_type": "markdown",
   "metadata": {
    "nbgrader": {
     "grade": false,
     "grade_id": "cell-9eadd4d8a03ae67a",
     "locked": true,
     "schema_version": 2,
     "solution": false
    }
   },
   "source": [
    "#### 2.6. Bagging.\n",
    "Here starts the ensembling part.\n",
    "\n",
    "First we will use the __Bagging__ approach. Build an ensemble of $N$ algorithms varying N from $N_{min}=2$ to $N_{max}=100$ (with step 5).\n",
    "\n",
    "We will build two ensembles: of logistic regressions and of decision trees.\n",
    "\n",
    "*Comment: each ensemble should be constructed from models of the same family, so logistic regressions should not be mixed up with decision trees.*\n",
    "\n",
    "\n",
    "*Hint 1: To build a __Bagging__ ensebmle varying the ensemble size efficiently you might generate $N_{max}$ subsets of `train` data (of the same size as the original dataset) using bootstrap procedure once. Then you train a new instance of logistic regression/decision tree with optimal hyperparameters you estimated before on each subset (so you train it from scratch). Finally, to get an ensemble of $N$ models you average the $N$ out of $N_{max}$ models predictions.*\n",
    "\n",
    "*Hint 2: sklearn might help you with this taks. Some appropriate function/class might be out there.*\n",
    "\n",
    "* Plot `f1` and `accuracy` scores plots w.r.t. the size of the ensemble.\n",
    "\n",
    "* Briefly analyse the plot. What is the optimal number of algorithms? Explain your answer.\n",
    "\n",
    "* How do you think, are the hyperparameters for the decision trees you found in 2.5 optimal for trees used in ensemble? "
   ]
  },
  {
   "cell_type": "code",
   "execution_count": 36,
   "metadata": {
    "nbgrader": {
     "grade": true,
     "grade_id": "cell-8fc95a2b206bdae1",
     "locked": false,
     "points": 35,
     "schema_version": 2,
     "solution": true
    }
   },
   "outputs": [],
   "source": [
    "from sklearn.ensemble import BaggingClassifier\n",
    "d3_bag = [model_selection.cross_val_score(BaggingClassifier(base_estimator=tree, n_estimators=n), X_train, y_train, scoring='accuracy').mean() for n in range(2, 100, 5)]\n",
    "#lr_bag = [model_selection.cross_val_score(BaggingClassifier(base_estimator=log_regressor, n_estimators=n), X_train, y_train, scoring='accuracy').mean() for n in range(2, 100, 5)]"
   ]
  },
  {
   "cell_type": "code",
   "execution_count": 37,
   "metadata": {},
   "outputs": [
    {
     "data": {
      "text/plain": [
       "<matplotlib.collections.PathCollection at 0x11be32b00>"
      ]
     },
     "execution_count": 37,
     "metadata": {},
     "output_type": "execute_result"
    },
    {
     "data": {
      "image/png": "[encoded data removed]",
      "text/plain": [
       "<Figure size 432x288 with 1 Axes>"
      ]
     },
     "metadata": {
      "needs_background": "light"
     },
     "output_type": "display_data"
    }
   ],
   "source": [
    "plt.scatter(range(2, 100, 5), d3_bag)"
   ]
  },
  {
   "cell_type": "markdown",
   "metadata": {
    "nbgrader": {
     "grade": false,
     "grade_id": "cell-241b7691ab44cbfb",
     "locked": true,
     "schema_version": 2,
     "solution": false
    }
   },
   "source": [
    "#### 2.7. Random Forest\n",
    "Now we will work with the Random Forest (its `sklearn` implementation).\n",
    "\n",
    "* * Plot `f1` and `accuracy` scores plots w.r.t. the number of trees in Random Forest.\n",
    "\n",
    "* What is the optimal number of trees you've got? Is it different from the optimal number of logistic regressions/decision trees in 2.6? Explain the results briefly."
   ]
  },
  {
   "cell_type": "code",
   "execution_count": 38,
   "metadata": {
    "nbgrader": {
     "grade": true,
     "grade_id": "cell-888755d0f3d91620",
     "locked": false,
     "points": 15,
     "schema_version": 2,
     "solution": true
    }
   },
   "outputs": [],
   "source": [
    "from sklearn.ensemble import RandomForestClassifier\n",
    "\n",
    "# YOUR CODE HERE"
   ]
  },
  {
   "cell_type": "markdown",
   "metadata": {
    "nbgrader": {
     "grade": false,
     "grade_id": "cell-99191c0852538d4d",
     "locked": true,
     "schema_version": 2,
     "solution": false
    }
   },
   "source": [
    "#### 2.8. Learning curve\n",
    "Your goal is to estimate, how does the model behaviour change with the increase of the `train` dataset size.\n",
    "\n",
    "* Split the training data into 10 equal (almost) parts. Then train the models from above (Logistic regression, Desicion Tree, Random Forest) with optimal hyperparameters you have selected on 1 part, 2 parts (combined, so the train size in increased by 2 times), 3 parts and so on.\n",
    "\n",
    "* Build a plot of `accuracy` and `f1` scores on `test` part, varying the `train` dataset size (so the axes will be score - dataset size.\n",
    "\n",
    "* Analyse the final plot. Can you make any conlusions using it? "
   ]
  },
  {
   "cell_type": "code",
   "execution_count": 39,
   "metadata": {
    "nbgrader": {
     "grade": true,
     "grade_id": "cell-e39bc7e7dff61ff9",
     "locked": false,
     "points": 15,
     "schema_version": 2,
     "solution": true
    }
   },
   "outputs": [],
   "source": [
    "# YOUR CODE HERE"
   ]
  }
 ],
 "metadata": {
  "celltoolbar": "Create Assignment",
  "kernelspec": {
   "display_name": "Python 3",
   "language": "python",
   "name": "python3"
  },
  "language_info": {
   "codemirror_mode": {
    "name": "ipython",
    "version": 3
   },
   "file_extension": ".py",
   "mimetype": "text/x-python",
   "name": "python",
   "nbconvert_exporter": "python",
   "pygments_lexer": "ipython3",
   "version": "3.8.5"
  },
  "toc": {
   "base_numbering": 1,
   "nav_menu": {},
   "number_sections": false,
   "sideBar": true,
   "skip_h1_title": false,
   "title_cell": "Table of Contents",
   "title_sidebar": "Contents",
   "toc_cell": false,
   "toc_position": {},
   "toc_section_display": true,
   "toc_window_display": false
  }
 },
 "nbformat": 4,
 "nbformat_minor": 2
}
